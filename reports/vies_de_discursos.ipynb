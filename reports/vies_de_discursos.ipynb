{
  "nbformat": 4,
  "nbformat_minor": 0,
  "metadata": {
    "colab": {
      "name": "vies_de_discursos.ipynb",
      "provenance": [],
      "collapsed_sections": [],
      "toc_visible": true,
      "include_colab_link": true
    },
    "kernelspec": {
      "name": "python3",
      "display_name": "Python 3"
    },
    "accelerator": "GPU"
  },
  "cells": [
    {
      "cell_type": "markdown",
      "metadata": {
        "id": "view-in-github",
        "colab_type": "text"
      },
      "source": [
        "<a href=\"https://colab.research.google.com/github/ivynasantino/vies-discursos-deputados/blob/master/reports/vies_de_discursos.ipynb\" target=\"_parent\"><img src=\"https://colab.research.google.com/assets/colab-badge.svg\" alt=\"Open In Colab\"/></a>"
      ]
    },
    {
      "cell_type": "markdown",
      "metadata": {
        "id": "RcexU4b0lsiX",
        "colab_type": "text"
      },
      "source": [
        "## Processamento de linguagem natural aplicada à análise de discursos de deputados\n",
        "\n",
        "Contexto: \n",
        "- **Contextualização**\n",
        "\n",
        "- **Objetivo da pesquisa:** Detectar viés de determinados termos(ainda definir) em discursos dos deputados federais da legislatura 56\n",
        "\n",
        "- **Dados utilizados:** Reunião da CCJC da PEC 06/2019 - Reforma da previdência\n",
        "\n",
        "- **Onde se encontra o dado:** A Câmara de deputados dispõe de notas taquigrafadas de cada reunião na sua [página]().\n",
        "\n",
        "- **Ferramentas utilizadas:**\n",
        "  - [Leg.go]() \n",
        "  - [Dados abertos]()\n",
        "  - [PyPdf2]()\n",
        "  - [Extrator de discursos]()\n",
        "  - [Gensim]()\n",
        "  - [rcongresso]()\n",
        "  \n",
        "- **Algoritmos utilizados:** "
      ]
    },
    {
      "cell_type": "code",
      "metadata": {
        "id": "mmkKuw5Llm68",
        "colab_type": "code",
        "cellView": "both",
        "outputId": "dbe151a1-7c2c-481c-f4b9-62b374b496d3",
        "colab": {
          "base_uri": "https://localhost:8080/",
          "height": 52
        }
      },
      "source": [
        "# @title Imports\n",
        "import pandas as pd\n",
        "import numpy as np\n",
        "import math \n",
        "import operator\n",
        "import re\n",
        "import collections\n",
        "\n",
        "import nltk\n",
        "nltk.download('punkt')\n",
        "from nltk.tokenize import RegexpTokenizer\n",
        "from nltk.corpus import stopwords\n",
        "\n",
        "from gensim.models import Word2Vec\n",
        "\n",
        "from pyemd import emd\n",
        "\n",
        "from IPython.display import HTML, display\n",
        "import tabulate\n",
        "\n",
        "import matplotlib.pyplot as plt\n",
        "%matplotlib inline\n",
        " \n",
        "import seaborn as sns\n",
        "sns.set_style(\"darkgrid\")\n",
        "\n",
        "from sklearn.decomposition import PCA\n",
        "from sklearn.manifold import TSNE"
      ],
      "execution_count": 89,
      "outputs": [
        {
          "output_type": "stream",
          "text": [
            "[nltk_data] Downloading package punkt to /root/nltk_data...\n",
            "[nltk_data]   Package punkt is already up-to-date!\n"
          ],
          "name": "stdout"
        }
      ]
    },
    {
      "cell_type": "markdown",
      "metadata": {
        "id": "yStvIoiOnixZ",
        "colab_type": "text"
      },
      "source": [
        "### Base de dados"
      ]
    },
    {
      "cell_type": "code",
      "metadata": {
        "id": "SN5WI7p_noYM",
        "colab_type": "code",
        "cellView": "form",
        "colab": {}
      },
      "source": [
        "# @title Dataframe de discursos\n",
        "url = \"https://raw.githubusercontent.com/ivynasantino/vies-discursos-deputados/master/data/all_discursos.csv\"\n",
        "discursos = pd.read_csv(url)"
      ],
      "execution_count": 0,
      "outputs": []
    },
    {
      "cell_type": "code",
      "metadata": {
        "id": "Nf0Y7eGWoc_E",
        "colab_type": "code",
        "outputId": "28661645-75d3-45af-83a6-5fae47e176a2",
        "colab": {
          "base_uri": "https://localhost:8080/",
          "height": 202
        }
      },
      "source": [
        "discursos.head()"
      ],
      "execution_count": 5,
      "outputs": [
        {
          "output_type": "execute_result",
          "data": {
            "text/html": [
              "<div>\n",
              "<style scoped>\n",
              "    .dataframe tbody tr th:only-of-type {\n",
              "        vertical-align: middle;\n",
              "    }\n",
              "\n",
              "    .dataframe tbody tr th {\n",
              "        vertical-align: top;\n",
              "    }\n",
              "\n",
              "    .dataframe thead th {\n",
              "        text-align: right;\n",
              "    }\n",
              "</style>\n",
              "<table border=\"1\" class=\"dataframe\">\n",
              "  <thead>\n",
              "    <tr style=\"text-align: right;\">\n",
              "      <th></th>\n",
              "      <th>data</th>\n",
              "      <th>autor</th>\n",
              "      <th>partido</th>\n",
              "      <th>uf</th>\n",
              "      <th>discurso</th>\n",
              "    </tr>\n",
              "  </thead>\n",
              "  <tbody>\n",
              "    <tr>\n",
              "      <th>0</th>\n",
              "      <td>09/04/2019</td>\n",
              "      <td>FELIPE FRANCISCHINI</td>\n",
              "      <td>PSL</td>\n",
              "      <td>PR</td>\n",
              "      <td>Havendo número regimental, declaro aberta a pr...</td>\n",
              "    </tr>\n",
              "    <tr>\n",
              "      <th>1</th>\n",
              "      <td>09/04/2019</td>\n",
              "      <td>AFONSO MOTTA</td>\n",
              "      <td>PDT</td>\n",
              "      <td>RS</td>\n",
              "      <td>Questão de ordem, Sr. Presidente.</td>\n",
              "    </tr>\n",
              "    <tr>\n",
              "      <th>2</th>\n",
              "      <td>09/04/2019</td>\n",
              "      <td>FELIPE FRANCISCHINI</td>\n",
              "      <td>PSL</td>\n",
              "      <td>PR</td>\n",
              "      <td>Questão de ordem do Deputado Afonso Motta.</td>\n",
              "    </tr>\n",
              "    <tr>\n",
              "      <th>3</th>\n",
              "      <td>09/04/2019</td>\n",
              "      <td>AFONSO MOTTA</td>\n",
              "      <td>PDT</td>\n",
              "      <td>RS</td>\n",
              "      <td>Sr. Presidente, o fundamento da minha questão ...</td>\n",
              "    </tr>\n",
              "    <tr>\n",
              "      <th>4</th>\n",
              "      <td>09/04/2019</td>\n",
              "      <td>FELIPE FRANCISCHINI</td>\n",
              "      <td>PSL</td>\n",
              "      <td>PR</td>\n",
              "      <td>Só um minuto, Deputado. Deputados, por favor, ...</td>\n",
              "    </tr>\n",
              "  </tbody>\n",
              "</table>\n",
              "</div>"
            ],
            "text/plain": [
              "         data  ...                                           discurso\n",
              "0  09/04/2019  ...  Havendo número regimental, declaro aberta a pr...\n",
              "1  09/04/2019  ...                  Questão de ordem, Sr. Presidente.\n",
              "2  09/04/2019  ...         Questão de ordem do Deputado Afonso Motta.\n",
              "3  09/04/2019  ...  Sr. Presidente, o fundamento da minha questão ...\n",
              "4  09/04/2019  ...  Só um minuto, Deputado. Deputados, por favor, ...\n",
              "\n",
              "[5 rows x 5 columns]"
            ]
          },
          "metadata": {
            "tags": []
          },
          "execution_count": 5
        }
      ]
    },
    {
      "cell_type": "markdown",
      "metadata": {
        "id": "wEruygQGo77V",
        "colab_type": "text"
      },
      "source": [
        "### Processamento dos dados\n",
        "\n",
        "- Remover stopwords"
      ]
    },
    {
      "cell_type": "code",
      "metadata": {
        "id": "aTG6i-oaxASQ",
        "colab_type": "code",
        "outputId": "7ead41e0-98e7-43aa-87a7-a0959f43ad51",
        "colab": {
          "base_uri": "https://localhost:8080/",
          "height": 52
        }
      },
      "source": [
        "nltk.download('stopwords')\n",
        "\n",
        "# removendo stopwords\n",
        "default_stopwords = set(stopwords.words('portuguese'))\n",
        "stopwords_complement = [\"\",\"neste\",\"és\", \"é\", \"somos\", \"sois\", \"são\", \"era\", \"eras\", \"éreis\", \"foste\", \"fostes\", \"foras\",\t\"fôreis\",\t\"serás\", \"sereis\", \"serão\",\t\"serias\", \"seríeis\", \"sejas\", \"sejais\", \"fosses\", \"fôsseis\", \"fores\", \"fordes\", \"sê\", \"sejas\", \"sejais\", \"ser\", \"seres\", \"sermos\",\t\"serdes\",\t\"serem\", \"sobre\", \"é\"]\n",
        "\n",
        "stopwords_complement.extend(default_stopwords)"
      ],
      "execution_count": 6,
      "outputs": [
        {
          "output_type": "stream",
          "text": [
            "[nltk_data] Downloading package stopwords to /root/nltk_data...\n",
            "[nltk_data]   Unzipping corpora/stopwords.zip.\n"
          ],
          "name": "stdout"
        }
      ]
    },
    {
      "cell_type": "code",
      "metadata": {
        "id": "tJuGGKrLG3lU",
        "colab_type": "code",
        "outputId": "5c34e256-6ed5-4cc2-881b-041dd3f3653f",
        "colab": {
          "base_uri": "https://localhost:8080/",
          "height": 125
        },
        "cellView": "form"
      },
      "source": [
        "# @title Importando modelo \n",
        "from google.colab import drive\n",
        "drive.mount('/content/drive')"
      ],
      "execution_count": 11,
      "outputs": [
        {
          "output_type": "stream",
          "text": [
            "Go to this URL in a browser: https://accounts.google.com/o/oauth2/auth?client_id=947318989803-6bn6qk8qdgf4n4g3pfee6491hc0brc4i.apps.googleusercontent.com&redirect_uri=urn%3Aietf%3Awg%3Aoauth%3A2.0%3Aoob&scope=email%20https%3A%2F%2Fwww.googleapis.com%2Fauth%2Fdocs.test%20https%3A%2F%2Fwww.googleapis.com%2Fauth%2Fdrive%20https%3A%2F%2Fwww.googleapis.com%2Fauth%2Fdrive.photos.readonly%20https%3A%2F%2Fwww.googleapis.com%2Fauth%2Fpeopleapi.readonly&response_type=code\n",
            "\n",
            "Enter your authorization code:\n",
            "··········\n",
            "Mounted at /content/drive\n"
          ],
          "name": "stdout"
        }
      ]
    },
    {
      "cell_type": "code",
      "metadata": {
        "id": "tiKG268PyrCW",
        "colab_type": "code",
        "outputId": "ed3fc136-9f59-4503-eae1-19247412d621",
        "colab": {
          "base_uri": "https://localhost:8080/",
          "height": 72
        },
        "cellView": "form"
      },
      "source": [
        "# @title Carregando modelo\n",
        "model = Word2Vec.load('./drive/My Drive/tcc/tcc/dados/modelo/model.txt')"
      ],
      "execution_count": 12,
      "outputs": [
        {
          "output_type": "stream",
          "text": [
            "/usr/local/lib/python3.6/dist-packages/smart_open/smart_open_lib.py:398: UserWarning: This function is deprecated, use smart_open.open instead. See the migration notes for details: https://github.com/RaRe-Technologies/smart_open/blob/master/README.rst#migrating-to-the-new-open-function\n",
            "  'See the migration notes for details: %s' % _MIGRATION_NOTES_URL\n"
          ],
          "name": "stderr"
        }
      ]
    },
    {
      "cell_type": "markdown",
      "metadata": {
        "id": "Q4Dhjgocy28k",
        "colab_type": "text"
      },
      "source": [
        "### TSNE e PCA"
      ]
    },
    {
      "cell_type": "code",
      "metadata": {
        "id": "sU_LJ5h_y1lQ",
        "colab_type": "code",
        "colab": {}
      },
      "source": [
        "def tsnescatterplot(model, word, list_names):\n",
        "   \n",
        "    arrays = np.empty((0, 150), dtype='f')\n",
        "    word_labels = [word]\n",
        "    color_list  = ['red']\n",
        "\n",
        "    # adds the vector of the query word\n",
        "    arrays = np.append(arrays, model.wv.__getitem__([word]), axis=0)\n",
        "    \n",
        "    # gets list of most similar words\n",
        "    close_words = model.wv.most_similar([word])\n",
        "    \n",
        "    # adds the vector for each of the closest words to the array\n",
        "    for wrd_score in close_words:\n",
        "        wrd_vector = model.wv.__getitem__([wrd_score[0]])\n",
        "        word_labels.append(wrd_score[0])\n",
        "        color_list.append('blue')\n",
        "        arrays = np.append(arrays, wrd_vector, axis=0)\n",
        "    \n",
        "    # adds the vector for each of the words from list_names to the array\n",
        "    for wrd in list_names:\n",
        "        wrd_vector = model.wv.__getitem__([wrd])\n",
        "        word_labels.append(wrd)\n",
        "        color_list.append('green')\n",
        "        arrays = np.append(arrays, wrd_vector, axis=0)\n",
        "        \n",
        "    # Reduces the dimensionality from 300 to 50 dimensions with PCA\n",
        "    reduc = PCA(n_components=12).fit_transform(arrays)\n",
        "    \n",
        "    # Finds t-SNE coordinates for 2 dimensions\n",
        "    np.set_printoptions(suppress=True)\n",
        "    \n",
        "    Y = TSNE(n_components=2, random_state=0, perplexity=15).fit_transform(reduc)\n",
        "    \n",
        "    # Sets everything up to plot\n",
        "    df = pd.DataFrame({'x': [x for x in Y[:, 0]],\n",
        "                       'y': [y for y in Y[:, 1]],\n",
        "                       'words': word_labels,\n",
        "                       'color': color_list})\n",
        "    \n",
        "    fig, _ = plt.subplots()\n",
        "    fig.set_size_inches(9, 9)\n",
        "    \n",
        "    # Basic plot\n",
        "    p1 = sns.regplot(data=df,\n",
        "                     x=\"x\",\n",
        "                     y=\"y\",\n",
        "                     fit_reg=False,\n",
        "                     marker=\"o\",\n",
        "                     scatter_kws={'s': 40,\n",
        "                                  'facecolors': df['color']\n",
        "                                 }\n",
        "                    )\n",
        "    \n",
        "    # Adds annotations one by one with a loop\n",
        "    for line in range(0, df.shape[0]):\n",
        "         p1.text(df[\"x\"][line],\n",
        "                 df['y'][line],\n",
        "                 '  ' + df[\"words\"][line].title(),\n",
        "                 horizontalalignment='left',\n",
        "                 verticalalignment='bottom', size='medium',\n",
        "                 color=df['color'][line],\n",
        "                 weight='normal'\n",
        "                ).set_size(15)\n",
        "\n",
        "    \n",
        "    plt.xlim(Y[:, 0].min()-50, Y[:, 0].max()+50)\n",
        "    plt.ylim(Y[:, 1].min()-50, Y[:, 1].max()+50)\n",
        "            \n",
        "    plt.title('t-SNE visualization for {}'.format(word.title()))"
      ],
      "execution_count": 0,
      "outputs": []
    },
    {
      "cell_type": "code",
      "metadata": {
        "id": "TFXCFxmXzbKe",
        "colab_type": "code",
        "colab": {
          "base_uri": "https://localhost:8080/",
          "height": 622
        },
        "outputId": "d9bf07e8-de3b-4bcf-8908-d269047c9bc6"
      },
      "source": [
        "tsnescatterplot(model, 'pt', [t[0] for t in model.wv.most_similar(positive=[\"eleição\"], topn=20)][10:])"
      ],
      "execution_count": 106,
      "outputs": [
        {
          "output_type": "stream",
          "text": [
            "/usr/local/lib/python3.6/dist-packages/gensim/matutils.py:737: FutureWarning: Conversion of the second argument of issubdtype from `int` to `np.signedinteger` is deprecated. In future, it will be treated as `np.int64 == np.dtype(int).type`.\n",
            "  if np.issubdtype(vec.dtype, np.int):\n"
          ],
          "name": "stderr"
        },
        {
          "output_type": "display_data",
          "data": {
            "image/png": "[encoded data removed]",
            "text/plain": [
              "<Figure size 648x648 with 1 Axes>"
            ]
          },
          "metadata": {
            "tags": []
          }
        }
      ]
    },
    {
      "cell_type": "code",
      "metadata": {
        "id": "YPxMaR5Gz5o4",
        "colab_type": "code",
        "colab": {
          "base_uri": "https://localhost:8080/",
          "height": 622
        },
        "outputId": "f3a0b340-f9d3-484e-bd9f-0bc6509c56ad"
      },
      "source": [
        "tsnescatterplot(model, 'psl', [t[0] for t in model.wv.most_similar(positive=[\"eleição\"], topn=20)][10:])"
      ],
      "execution_count": 105,
      "outputs": [
        {
          "output_type": "stream",
          "text": [
            "/usr/local/lib/python3.6/dist-packages/gensim/matutils.py:737: FutureWarning: Conversion of the second argument of issubdtype from `int` to `np.signedinteger` is deprecated. In future, it will be treated as `np.int64 == np.dtype(int).type`.\n",
            "  if np.issubdtype(vec.dtype, np.int):\n"
          ],
          "name": "stderr"
        },
        {
          "output_type": "display_data",
          "data": {
            "image/png": "[encoded data removed]",
            "text/plain": [
              "<Figure size 648x648 with 1 Axes>"
            ]
          },
          "metadata": {
            "tags": []
          }
        }
      ]
    },
    {
      "cell_type": "markdown",
      "metadata": {
        "id": "1w9JzXmbvT0Z",
        "colab_type": "text"
      },
      "source": [
        "### Proximidade de discursos"
      ]
    },
    {
      "cell_type": "code",
      "metadata": {
        "id": "BxhKrk_LxcQy",
        "colab_type": "code",
        "colab": {}
      },
      "source": [
        "def discursos_2_array(id_discursos):\n",
        "    words = re.split(r'\\W+', discursos.loc[id_discursos].discurso)\n",
        "    no_stopwords_discursos = []\n",
        "    for word in words:\n",
        "        if word.lower() not in stopwords_complement:\n",
        "            no_stopwords_discursos.append(word.lower())\n",
        "    return no_stopwords_discursos"
      ],
      "execution_count": 0,
      "outputs": []
    },
    {
      "cell_type": "code",
      "metadata": {
        "id": "SF2j4CDzyA6j",
        "colab_type": "code",
        "colab": {}
      },
      "source": [
        "def discursos_2_embeddings(discursos_id):\n",
        "    words = discursos_2_array(discursos_id)\n",
        "    \n",
        "    embed_words = {}\n",
        "    for word in words:\n",
        "                \n",
        "        try:\n",
        "            embed_words[w] = model[w]\n",
        "        except:\n",
        "            continue      \n",
        "        \n",
        "    return words, embed_words"
      ],
      "execution_count": 0,
      "outputs": []
    },
    {
      "cell_type": "code",
      "metadata": {
        "id": "9SwK3agvyW2L",
        "colab_type": "code",
        "colab": {}
      },
      "source": [
        "def wmdistance(d1, d2):\n",
        "    d1, d1_embed = discursos_2_embeddings(d1)\n",
        "    d2, d2_embed = discursos_2_embeddings(d2)\n",
        "    \n",
        "    return model.wv.wmdistance(d1, d2)"
      ],
      "execution_count": 0,
      "outputs": []
    },
    {
      "cell_type": "code",
      "metadata": {
        "id": "8851AhOTvetD",
        "colab_type": "code",
        "colab": {
          "base_uri": "https://localhost:8080/",
          "height": 35
        },
        "outputId": "6ea0dc7b-89b7-48a3-c8da-9c994f38c0d7"
      },
      "source": [
        "discursos.discurso.loc[540]"
      ],
      "execution_count": 69,
      "outputs": [
        {
          "output_type": "execute_result",
          "data": {
            "text/plain": [
              "'V.Exa., de forma ilegal, concedeu o tempo integral à Deputada. Então, V.Exa...'"
            ]
          },
          "metadata": {
            "tags": []
          },
          "execution_count": 69
        }
      ]
    },
    {
      "cell_type": "code",
      "metadata": {
        "id": "Iw4w9fAvvzq7",
        "colab_type": "code",
        "colab": {
          "base_uri": "https://localhost:8080/",
          "height": 35
        },
        "outputId": "6bd372fb-66af-450f-8932-83eaf0d2f778"
      },
      "source": [
        "discursos.discurso.loc[1]"
      ],
      "execution_count": 68,
      "outputs": [
        {
          "output_type": "execute_result",
          "data": {
            "text/plain": [
              "'Questão de ordem, Sr. Presidente.'"
            ]
          },
          "metadata": {
            "tags": []
          },
          "execution_count": 68
        }
      ]
    },
    {
      "cell_type": "code",
      "metadata": {
        "id": "XtcqcuJ-alL2",
        "colab_type": "code",
        "outputId": "830d6925-2a2c-4e7d-d1e8-8da73b694d0f",
        "colab": {
          "base_uri": "https://localhost:8080/",
          "height": 35
        }
      },
      "source": [
        "wmdistance(540, 1)"
      ],
      "execution_count": 16,
      "outputs": [
        {
          "output_type": "execute_result",
          "data": {
            "text/plain": [
              "3.9547515458838616"
            ]
          },
          "metadata": {
            "tags": []
          },
          "execution_count": 16
        }
      ]
    },
    {
      "cell_type": "code",
      "metadata": {
        "id": "vgu2_sWsBNmc",
        "colab_type": "code",
        "colab": {}
      },
      "source": [
        "def similarity(discursos_ids):\n",
        "    score = {}\n",
        "    for i in range(0, discursos_ids):\n",
        "        score[i] = wmdistance(discursos_ids, i)\n",
        "    \n",
        "    sorted_discursos = sorted(score.items(), key=operator.itemgetter(1))\n",
        "    return [(i, discursos.loc[i].autor, discursos.loc[i].discurso, \"{0:.2f}\".format(j)) for i, j in sorted_discursos[1:4]]"
      ],
      "execution_count": 0,
      "outputs": []
    },
    {
      "cell_type": "code",
      "metadata": {
        "id": "KPY7y-6txDBI",
        "colab_type": "code",
        "colab": {}
      },
      "source": [
        "def info_disc(discurso_id):\n",
        "  print(discursos.loc[discurso_id].autor + \" (\" + discursos.loc[discurso_id].partido + \" - \" + discursos.loc[discurso_id].uf + \")\")\n",
        "  print(discursos.loc[discurso_id].discurso)"
      ],
      "execution_count": 0,
      "outputs": []
    },
    {
      "cell_type": "code",
      "metadata": {
        "id": "mHxbi6ROBjST",
        "colab_type": "code",
        "outputId": "7dc99240-5279-4e6f-fcb5-1b6b72339d67",
        "colab": {
          "base_uri": "https://localhost:8080/",
          "height": 52
        }
      },
      "source": [
        "info_disc(540)"
      ],
      "execution_count": 86,
      "outputs": [
        {
          "output_type": "stream",
          "text": [
            "ERIKA KOKAY (PT - DF)\n",
            "V.Exa., de forma ilegal, concedeu o tempo integral à Deputada. Então, V.Exa...\n"
          ],
          "name": "stdout"
        }
      ]
    },
    {
      "cell_type": "code",
      "metadata": {
        "id": "BMCUSG66BwFp",
        "colab_type": "code",
        "outputId": "b02818bd-5415-4506-9507-977215b1c83e",
        "colab": {
          "base_uri": "https://localhost:8080/",
          "height": 229
        }
      },
      "source": [
        "similarity(540)"
      ],
      "execution_count": 88,
      "outputs": [
        {
          "output_type": "execute_result",
          "data": {
            "text/plain": [
              "[(70,\n",
              "  'FELIPE FRANCISCHINI',\n",
              "  'Deputada, V.Exa. não é membro da Comissão. Então, não cabe questão de ordem.',\n",
              "  '2.83'),\n",
              " (537,\n",
              "  'FELIPE FRANCISCHINI',\n",
              "  'Após a fala da Deputada Joenia Wapichana, concedo a palavra a V.Exa.',\n",
              "  '2.96'),\n",
              " (23,\n",
              "  'FELIPE FRANCISCHINI',\n",
              "  'É incidental à questão. Tem a palavra V.Exa., rapidamente, Deputada.',\n",
              "  '3.05')]"
            ]
          },
          "metadata": {
            "tags": []
          },
          "execution_count": 88
        }
      ]
    },
    {
      "cell_type": "markdown",
      "metadata": {
        "id": "yzu6kOM-pvY1",
        "colab_type": "text"
      },
      "source": [
        "### Análises e construção dos docs\n",
        "\n",
        "- Análise de similaridade/agrupamento de discursos\n",
        "- Análise de viés nos discursos para termos como: reforma da previdência, bolsonaro, lula livre"
      ]
    },
    {
      "cell_type": "code",
      "metadata": {
        "id": "rUnPGH9bs7Si",
        "colab_type": "code",
        "colab": {}
      },
      "source": [
        "def display_table(list_model):\n",
        "  list_model.insert(0, (\"Word\", \"Most similar\"))\n",
        "  return display(HTML(tabulate.tabulate(list_model, tablefmt='html')))"
      ],
      "execution_count": 0,
      "outputs": []
    },
    {
      "cell_type": "code",
      "metadata": {
        "id": "CjYaD1dCoxbo",
        "colab_type": "code",
        "colab": {
          "base_uri": "https://localhost:8080/",
          "height": 394
        },
        "outputId": "613c9163-5a09-4e08-e5b2-361cce07008f"
      },
      "source": [
        "w1 = [\"psl\", \"eleição\"]\n",
        "psl_eleicao = model.wv.most_similar(positive=w1, topn=15)\n",
        "display_table(psl_eleicao)"
      ],
      "execution_count": 59,
      "outputs": [
        {
          "output_type": "stream",
          "text": [
            "/usr/local/lib/python3.6/dist-packages/gensim/matutils.py:737: FutureWarning: Conversion of the second argument of issubdtype from `int` to `np.signedinteger` is deprecated. In future, it will be treated as `np.int64 == np.dtype(int).type`.\n",
            "  if np.issubdtype(vec.dtype, np.int):\n"
          ],
          "name": "stderr"
        },
        {
          "output_type": "display_data",
          "data": {
            "text/html": [
              "<table>\n",
              "<tbody>\n",
              "<tr><td>Word          </td><td>Most similar      </td></tr>\n",
              "<tr><td>palmômetro    </td><td>0.7710034251213074</td></tr>\n",
              "<tr><td>jair          </td><td>0.7608100771903992</td></tr>\n",
              "<tr><td>polariza      </td><td>0.7500396966934204</td></tr>\n",
              "<tr><td>bolsonaro     </td><td>0.7429354786872864</td></tr>\n",
              "<tr><td>classificara  </td><td>0.734083354473114 </td></tr>\n",
              "<tr><td>revolveu      </td><td>0.725829005241394 </td></tr>\n",
              "<tr><td>presidenciável</td><td>0.7198766469955444</td></tr>\n",
              "<tr><td>presidencial  </td><td>0.7191309928894043</td></tr>\n",
              "<tr><td>bombardearam  </td><td>0.7149540185928345</td></tr>\n",
              "<tr><td>disputariam   </td><td>0.7136538624763489</td></tr>\n",
              "<tr><td>peitar        </td><td>0.7040295600891113</td></tr>\n",
              "<tr><td>credenciando  </td><td>0.7038276195526123</td></tr>\n",
              "<tr><td>bolsonarodo   </td><td>0.7021415829658508</td></tr>\n",
              "<tr><td>liderasse     </td><td>0.7019423246383667</td></tr>\n",
              "<tr><td>rachem        </td><td>0.7012787461280823</td></tr>\n",
              "</tbody>\n",
              "</table>"
            ],
            "text/plain": [
              "<IPython.core.display.HTML object>"
            ]
          },
          "metadata": {
            "tags": []
          }
        }
      ]
    },
    {
      "cell_type": "code",
      "metadata": {
        "id": "geuuAu-ho6lN",
        "colab_type": "code",
        "colab": {
          "base_uri": "https://localhost:8080/",
          "height": 394
        },
        "outputId": "4366c408-0110-4be9-a7ef-a5a4a40513be"
      },
      "source": [
        "w2 = [\"pt\", \"eleição\"]\n",
        "pt_eleicao = model.wv.most_similar(positive=w2,topn=15)\n",
        "display_table(pt_eleicao)"
      ],
      "execution_count": 60,
      "outputs": [
        {
          "output_type": "stream",
          "text": [
            "/usr/local/lib/python3.6/dist-packages/gensim/matutils.py:737: FutureWarning: Conversion of the second argument of issubdtype from `int` to `np.signedinteger` is deprecated. In future, it will be treated as `np.int64 == np.dtype(int).type`.\n",
            "  if np.issubdtype(vec.dtype, np.int):\n"
          ],
          "name": "stderr"
        },
        {
          "output_type": "display_data",
          "data": {
            "text/html": [
              "<table>\n",
              "<tbody>\n",
              "<tr><td>Word          </td><td>Most similar      </td></tr>\n",
              "<tr><td>delirando     </td><td>0.7174264788627625</td></tr>\n",
              "<tr><td>autointitulada</td><td>0.7106168270111084</td></tr>\n",
              "<tr><td>presidencial  </td><td>0.70921790599823  </td></tr>\n",
              "<tr><td>afunile       </td><td>0.7086635828018188</td></tr>\n",
              "<tr><td>indultaria    </td><td>0.7041963934898376</td></tr>\n",
              "<tr><td>esteticamente </td><td>0.7036284804344177</td></tr>\n",
              "<tr><td>registrarão   </td><td>0.7000104784965515</td></tr>\n",
              "<tr><td>mingúem       </td><td>0.6990824937820435</td></tr>\n",
              "<tr><td>figurante     </td><td>0.6944537162780762</td></tr>\n",
              "<tr><td>enterrarmos   </td><td>0.6916728615760803</td></tr>\n",
              "<tr><td>rachem        </td><td>0.6912642121315002</td></tr>\n",
              "<tr><td>pavimentado   </td><td>0.6902828216552734</td></tr>\n",
              "<tr><td>hoffmman      </td><td>0.6898087859153748</td></tr>\n",
              "<tr><td>tensiona      </td><td>0.688547670841217 </td></tr>\n",
              "<tr><td>isole         </td><td>0.6876347064971924</td></tr>\n",
              "</tbody>\n",
              "</table>"
            ],
            "text/plain": [
              "<IPython.core.display.HTML object>"
            ]
          },
          "metadata": {
            "tags": []
          }
        }
      ]
    },
    {
      "cell_type": "code",
      "metadata": {
        "id": "sAE8nvcdpCfm",
        "colab_type": "code",
        "colab": {
          "base_uri": "https://localhost:8080/",
          "height": 394
        },
        "outputId": "5465e1b6-4b3c-467f-a0c3-4c9a156d5c13"
      },
      "source": [
        "w3 = [\"dilma\", \"pt\"]\n",
        "w4 = [\"temer\"]\n",
        "imp = model.wv.most_similar(positive=w3, negative=w4, topn=15)\n",
        "display_table(imp)"
      ],
      "execution_count": 61,
      "outputs": [
        {
          "output_type": "stream",
          "text": [
            "/usr/local/lib/python3.6/dist-packages/gensim/matutils.py:737: FutureWarning: Conversion of the second argument of issubdtype from `int` to `np.signedinteger` is deprecated. In future, it will be treated as `np.int64 == np.dtype(int).type`.\n",
            "  if np.issubdtype(vec.dtype, np.int):\n"
          ],
          "name": "stderr"
        },
        {
          "output_type": "display_data",
          "data": {
            "text/html": [
              "<table>\n",
              "<tbody>\n",
              "<tr><td>Word          </td><td>Most similar      </td></tr>\n",
              "<tr><td>rousseff      </td><td>0.6882956624031067</td></tr>\n",
              "<tr><td>cassada       </td><td>0.5784278512001038</td></tr>\n",
              "<tr><td>satirizados   </td><td>0.5509670972824097</td></tr>\n",
              "<tr><td>petistas      </td><td>0.5499893426895142</td></tr>\n",
              "<tr><td>vistou        </td><td>0.548947811126709 </td></tr>\n",
              "<tr><td>autointitulada</td><td>0.522057294845581 </td></tr>\n",
              "<tr><td>presidenta    </td><td>0.518711268901825 </td></tr>\n",
              "<tr><td>entronizou    </td><td>0.5183515548706055</td></tr>\n",
              "<tr><td>petista       </td><td>0.5174095630645752</td></tr>\n",
              "<tr><td>proa          </td><td>0.5038093328475952</td></tr>\n",
              "<tr><td>lula          </td><td>0.5025933384895325</td></tr>\n",
              "<tr><td>sublevação    </td><td>0.5025095343589783</td></tr>\n",
              "<tr><td>desinflado    </td><td>0.4983830749988556</td></tr>\n",
              "<tr><td>unificaria    </td><td>0.4965296983718872</td></tr>\n",
              "<tr><td>impeachment   </td><td>0.4948348104953766</td></tr>\n",
              "</tbody>\n",
              "</table>"
            ],
            "text/plain": [
              "<IPython.core.display.HTML object>"
            ]
          },
          "metadata": {
            "tags": []
          }
        }
      ]
    }
  ]
}