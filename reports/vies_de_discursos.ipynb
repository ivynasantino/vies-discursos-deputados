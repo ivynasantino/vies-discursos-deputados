{
  "nbformat": 4,
  "nbformat_minor": 0,
  "metadata": {
    "colab": {
      "name": "vies_de_discursos.ipynb",
      "version": "0.3.2",
      "provenance": [],
      "collapsed_sections": [],
      "toc_visible": true,
      "include_colab_link": true
    },
    "kernelspec": {
      "name": "python3",
      "display_name": "Python 3"
    }
  },
  "cells": [
    {
      "cell_type": "markdown",
      "metadata": {
        "id": "view-in-github",
        "colab_type": "text"
      },
      "source": [
        "<a href=\"https://colab.research.google.com/github/ivynasantino/extrator-camara-discursos/blob/master/reports/vies_de_discursos.ipynb\" target=\"_parent\"><img src=\"https://colab.research.google.com/assets/colab-badge.svg\" alt=\"Open In Colab\"/></a>"
      ]
    },
    {
      "cell_type": "markdown",
      "metadata": {
        "id": "RcexU4b0lsiX",
        "colab_type": "text"
      },
      "source": [
        "## Processamento de linguagem natural aplicada à análise de discursos de deputados\n",
        "\n",
        "Contexto: \n",
        "- **Contextualização**\n",
        "\n",
        "- **Objetivo da pesquisa:** Detectar viés de determinados termos(ainda definir) em discursos dos deputados federais da legislatura 56\n",
        "\n",
        "- **Dados utilizados:** Reunião da CCJC da PEC 06/2019 - Reforma da previdência\n",
        "\n",
        "- **Onde se encontra o dado:** A Câmara de deputados dispõe de notas taquigrafadas de cada reunião na sua [página]().\n",
        "\n",
        "- **Ferramentas utilizadas:**\n",
        "  - [Leg.go]() \n",
        "  - [Dados abertos]()\n",
        "  - [PyPdf2]()\n",
        "  - [Extrator de discursos]()\n",
        "  - [Gensim]()\n",
        "  - [rcongresso]()\n",
        "  \n",
        "- **Algoritmos utilizados:** "
      ]
    },
    {
      "cell_type": "code",
      "metadata": {
        "id": "mmkKuw5Llm68",
        "colab_type": "code",
        "cellView": "both",
        "colab": {
          "base_uri": "https://localhost:8080/",
          "height": 52
        },
        "outputId": "0ade36e8-0407-45a5-f7d7-ed3fef072548"
      },
      "source": [
        "# @title Imports\n",
        "import pandas as pd\n",
        "import numpy as np\n",
        "import math \n",
        "import operator\n",
        "import re\n",
        "import collections\n",
        "\n",
        "import nltk\n",
        "nltk.download('punkt')\n",
        "from nltk.tokenize import RegexpTokenizer\n",
        "from nltk.corpus import stopwords\n",
        "\n",
        "from gensim.models import Word2Vec\n",
        "\n",
        "from pyemd import emd"
      ],
      "execution_count": 14,
      "outputs": [
        {
          "output_type": "stream",
          "text": [
            "[nltk_data] Downloading package punkt to /root/nltk_data...\n",
            "[nltk_data]   Unzipping tokenizers/punkt.zip.\n"
          ],
          "name": "stdout"
        }
      ]
    },
    {
      "cell_type": "markdown",
      "metadata": {
        "id": "yStvIoiOnixZ",
        "colab_type": "text"
      },
      "source": [
        "### Base de dados"
      ]
    },
    {
      "cell_type": "code",
      "metadata": {
        "id": "SN5WI7p_noYM",
        "colab_type": "code",
        "cellView": "both",
        "colab": {}
      },
      "source": [
        "# @title Dataframe de discursos\n",
        "url = \"https://raw.githubusercontent.com/ivynasantino/extrator-camara-discursos/master/processamento-analise-dados/data/ccjc_reuniao-16-04-2019_10h.csv\"\n",
        "discursos = pd.read_csv(url)"
      ],
      "execution_count": 0,
      "outputs": []
    },
    {
      "cell_type": "code",
      "metadata": {
        "id": "Nf0Y7eGWoc_E",
        "colab_type": "code",
        "colab": {
          "base_uri": "https://localhost:8080/",
          "height": 202
        },
        "outputId": "251ef751-acf2-48b7-e20f-9584ba7af8f0"
      },
      "source": [
        "discursos.head()"
      ],
      "execution_count": 25,
      "outputs": [
        {
          "output_type": "execute_result",
          "data": {
            "text/html": [
              "<div>\n",
              "<style scoped>\n",
              "    .dataframe tbody tr th:only-of-type {\n",
              "        vertical-align: middle;\n",
              "    }\n",
              "\n",
              "    .dataframe tbody tr th {\n",
              "        vertical-align: top;\n",
              "    }\n",
              "\n",
              "    .dataframe thead th {\n",
              "        text-align: right;\n",
              "    }\n",
              "</style>\n",
              "<table border=\"1\" class=\"dataframe\">\n",
              "  <thead>\n",
              "    <tr style=\"text-align: right;\">\n",
              "      <th></th>\n",
              "      <th>autor</th>\n",
              "      <th>data</th>\n",
              "      <th>partido</th>\n",
              "      <th>uf</th>\n",
              "      <th>all_discursos</th>\n",
              "    </tr>\n",
              "  </thead>\n",
              "  <tbody>\n",
              "    <tr>\n",
              "      <th>0</th>\n",
              "      <td>AFONSO MOTTA</td>\n",
              "      <td>10/04/2019</td>\n",
              "      <td>PDT</td>\n",
              "      <td>RS</td>\n",
              "      <td>Sr. Presidente, gostaria inicialmente que foss...</td>\n",
              "    </tr>\n",
              "    <tr>\n",
              "      <th>1</th>\n",
              "      <td>ALENCAR SANTANA BRAGA</td>\n",
              "      <td>10/04/2019</td>\n",
              "      <td>PT</td>\n",
              "      <td>SP</td>\n",
              "      <td>Sr. Presidente, colegas Deputados, estamos no ...</td>\n",
              "    </tr>\n",
              "    <tr>\n",
              "      <th>2</th>\n",
              "      <td>ALESSANDRO MOLON</td>\n",
              "      <td>10/04/2019</td>\n",
              "      <td>PSB</td>\n",
              "      <td>RJ</td>\n",
              "      <td>Sr. Presidente, eu estou esperando o Deputado ...</td>\n",
              "    </tr>\n",
              "    <tr>\n",
              "      <th>3</th>\n",
              "      <td>ALEXIS FONTEYNE</td>\n",
              "      <td>10/04/2019</td>\n",
              "      <td>NOVO</td>\n",
              "      <td>SP</td>\n",
              "      <td>Sr. Presidente, também estou abrindo mão do us...</td>\n",
              "    </tr>\n",
              "    <tr>\n",
              "      <th>4</th>\n",
              "      <td>ALIEL MACHADO</td>\n",
              "      <td>10/04/2019</td>\n",
              "      <td>PSB</td>\n",
              "      <td>PR</td>\n",
              "      <td>Questão de ordem, Presidente.+Art. 57, inciso ...</td>\n",
              "    </tr>\n",
              "  </tbody>\n",
              "</table>\n",
              "</div>"
            ],
            "text/plain": [
              "                   autor  ...                                      all_discursos\n",
              "0           AFONSO MOTTA  ...  Sr. Presidente, gostaria inicialmente que foss...\n",
              "1  ALENCAR SANTANA BRAGA  ...  Sr. Presidente, colegas Deputados, estamos no ...\n",
              "2       ALESSANDRO MOLON  ...  Sr. Presidente, eu estou esperando o Deputado ...\n",
              "3        ALEXIS FONTEYNE  ...  Sr. Presidente, também estou abrindo mão do us...\n",
              "4          ALIEL MACHADO  ...  Questão de ordem, Presidente.+Art. 57, inciso ...\n",
              "\n",
              "[5 rows x 5 columns]"
            ]
          },
          "metadata": {
            "tags": []
          },
          "execution_count": 25
        }
      ]
    },
    {
      "cell_type": "markdown",
      "metadata": {
        "id": "wEruygQGo77V",
        "colab_type": "text"
      },
      "source": [
        "### Processamento dos dados\n",
        "\n",
        "- Remover stopwords\n",
        "- Remover caractere \"+\""
      ]
    },
    {
      "cell_type": "code",
      "metadata": {
        "id": "aTG6i-oaxASQ",
        "colab_type": "code",
        "colab": {}
      },
      "source": [
        "# para o first time run\n",
        "nltk.download('stopwords')\n",
        "\n",
        "# removendo stopwords\n",
        "default_stopwords = set(stopwords.words('portuguese'))\n",
        "stopwords_complement = [\"\", \"+\",\"neste\",\"és\", \"é\", \"somos\", \"sois\", \"são\", \"era\", \"eras\", \"éreis\", \"foste\", \"fostes\", \"foras\",\t\"fôreis\",\t\"serás\", \"sereis\", \"serão\",\t\"serias\", \"seríeis\", \"sejas\", \"sejais\", \"fosses\", \"fôsseis\", \"fores\", \"fordes\", \"sê\", \"sejas\", \"sejais\", \"ser\", \"seres\", \"sermos\",\t\"serdes\",\t\"serem\", \"sobre\", \"é\"]\n",
        "\n",
        "stopwords_complement.extend(default_stopwords)"
      ],
      "execution_count": 0,
      "outputs": []
    },
    {
      "cell_type": "code",
      "metadata": {
        "id": "tiKG268PyrCW",
        "colab_type": "code",
        "colab": {}
      },
      "source": [
        "model = Word2Vec.load('base de dados')"
      ],
      "execution_count": 0,
      "outputs": []
    },
    {
      "cell_type": "code",
      "metadata": {
        "id": "BxhKrk_LxcQy",
        "colab_type": "code",
        "colab": {}
      },
      "source": [
        "def discursos_2_array(id_discursos):\n",
        "    words = re.split(r'\\W+', discursos.loc[id_discursos].all_discursos)\n",
        "    no_stopwords_discursos = []\n",
        "    for word in words:\n",
        "        if word.lower() not in stopwords_complement:\n",
        "            no_stopwords_news.append(word.lower())\n",
        "    return no_stopwords_news"
      ],
      "execution_count": 0,
      "outputs": []
    },
    {
      "cell_type": "code",
      "metadata": {
        "id": "SF2j4CDzyA6j",
        "colab_type": "code",
        "colab": {}
      },
      "source": [
        "def discursos_2_embeddings(discursos_id):\n",
        "    words = news2array(discursos_id)\n",
        "    \n",
        "    embed_words = {}\n",
        "    for word in words:\n",
        "                \n",
        "        try:\n",
        "            embed_words[w] = model[w]\n",
        "        except:\n",
        "            continue      \n",
        "        \n",
        "    return words, embed_words"
      ],
      "execution_count": 0,
      "outputs": []
    },
    {
      "cell_type": "code",
      "metadata": {
        "id": "9SwK3agvyW2L",
        "colab_type": "code",
        "colab": {}
      },
      "source": [
        "def wmdistance(d1, d2):\n",
        "    d1, d1_embed = discursos_2_embeddings(d1)\n",
        "    d2, d2_embed = discursos_2_embeddings(d2)\n",
        "    \n",
        "    return model.wmdistance(d1, d2)"
      ],
      "execution_count": 0,
      "outputs": []
    },
    {
      "cell_type": "markdown",
      "metadata": {
        "id": "yzu6kOM-pvY1",
        "colab_type": "text"
      },
      "source": [
        "### Análises e construção dos docs\n",
        "\n",
        "- Análise de similaridade/agrupamento de discursos\n",
        "- Análise de viés nos discursos para termos como: reforma da previdência, bolsonaro, lula livre\n",
        "  - Abordagem com análise de sentimentos, para detectar deputados que falam positivamente ou negativamente sobre um termo."
      ]
    },
    {
      "cell_type": "markdown",
      "metadata": {
        "id": "PFVkVDDnqYvv",
        "colab_type": "text"
      },
      "source": [
        "### Visualização\n",
        "\n",
        "- Grupos de deputados que falam similar\n",
        "- Viés de um discurso para termo X"
      ]
    }
  ]
}