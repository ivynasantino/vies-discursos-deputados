{
  "nbformat": 4,
  "nbformat_minor": 0,
  "metadata": {
    "colab": {
      "name": "vies_de_discursos.ipynb",
      "provenance": [],
      "collapsed_sections": [],
      "toc_visible": true,
      "include_colab_link": true
    },
    "kernelspec": {
      "name": "python3",
      "display_name": "Python 3"
    },
    "accelerator": "GPU"
  },
  "cells": [
    {
      "cell_type": "markdown",
      "metadata": {
        "id": "view-in-github",
        "colab_type": "text"
      },
      "source": [
        "<a href=\"https://colab.research.google.com/github/ivynasantino/vies-discursos-deputados/blob/master/reports/vies_de_discursos.ipynb\" target=\"_parent\"><img src=\"https://colab.research.google.com/assets/colab-badge.svg\" alt=\"Open In Colab\"/></a>"
      ]
    },
    {
      "cell_type": "markdown",
      "metadata": {
        "id": "RcexU4b0lsiX",
        "colab_type": "text"
      },
      "source": [
        "## Processamento de linguagem natural aplicada à análise de discursos de deputados\n",
        "\n",
        "Contexto: \n",
        "- **Contextualização**: Mediante a vasta quantidade de informação da mídia sobre discussões de projetos de leis, muita das vezes, a população não acompanha o que está sendo discutido de fato no Congresso e, consequentemente desconhece o posicionamento político de um parlamentar. Dessa maneira, a proposta de pesquisa é utilizar os falas dos deputados nas sessões da PEC 06/2019 para detectar de forma automática, utilizando técnicas de NLP o alinhamento e contradição partidária.\n",
        "\n",
        "- **Objetivo da pesquisa:** Detectar posicionamento político através das discussões realizadas pelos deputados federais.\n",
        "\n",
        "- **Dados utilizados:** Reunião da CCJC da PEC 06/2019 - Reforma da previdência\n",
        "\n",
        "- **Onde se encontra o dado:** A Câmara de deputados dispõe de notas taquigrafadas de cada reunião na sua [página](https://www.camara.leg.br/proposicoesWeb/fichadetramitacao?idProposicao=2192459).\n",
        "\n",
        "- **Ferramentas utilizadas:**\n",
        "  - [Leg.go](https://leggo.org.br/#/proposicoes) \n",
        "  - [PyPdf2](https://pypi.org/project/PyPDF2/)\n",
        "  - [Raspador de discursos](https://github.com/dados-congresso/raspador-discursos-camara)\n",
        "  - [Gensim](https://pypi.org/project/gensim/)\n",
        "  \n",
        "- **Algoritmos utilizados:** \n",
        "  - Word2Vec: utilizado para criar o modelo\n",
        "  - T-SNE e PCA: responsável por reduzir dimensões do modelo e gerar a visualização\n",
        "  - Most similar: método do Gensim que mostra as palavra mais similar ao parâmetro pesquisado\n",
        "  - WMD: utilizado para calcular a distância entre os discursos"
      ]
    },
    {
      "cell_type": "code",
      "metadata": {
        "id": "mmkKuw5Llm68",
        "colab_type": "code",
        "cellView": "form",
        "outputId": "273d6bdc-aa54-443b-99f7-ab8be27b5bf7",
        "colab": {
          "base_uri": "https://localhost:8080/",
          "height": 51
        }
      },
      "source": [
        "# @title Imports\n",
        "import pandas as pd\n",
        "import numpy as np\n",
        "import math \n",
        "import operator\n",
        "import re\n",
        "import collections\n",
        "\n",
        "import nltk\n",
        "nltk.download('punkt')\n",
        "from nltk.tokenize import RegexpTokenizer\n",
        "from nltk.corpus import stopwords\n",
        "\n",
        "from gensim.models import Word2Vec\n",
        "\n",
        "from pyemd import emd\n",
        "\n",
        "from IPython.display import HTML, display\n",
        "import tabulate\n",
        "\n",
        "import matplotlib.pyplot as plt\n",
        "%matplotlib inline\n",
        " \n",
        "import seaborn as sns\n",
        "sns.set_style(\"darkgrid\")\n",
        "\n",
        "from sklearn.decomposition import PCA\n",
        "from sklearn.manifold import TSNE"
      ],
      "execution_count": 2,
      "outputs": [
        {
          "output_type": "stream",
          "text": [
            "[nltk_data] Downloading package punkt to /root/nltk_data...\n",
            "[nltk_data]   Unzipping tokenizers/punkt.zip.\n"
          ],
          "name": "stdout"
        }
      ]
    },
    {
      "cell_type": "markdown",
      "metadata": {
        "id": "yStvIoiOnixZ",
        "colab_type": "text"
      },
      "source": [
        "### Base de dados"
      ]
    },
    {
      "cell_type": "code",
      "metadata": {
        "id": "SN5WI7p_noYM",
        "colab_type": "code",
        "cellView": "form",
        "colab": {}
      },
      "source": [
        "# @title Dataframe de discursos\n",
        "url = \"https://raw.githubusercontent.com/ivynasantino/vies-discursos-deputados/master/data/all_discursos.csv\"\n",
        "discursos = pd.read_csv(url)"
      ],
      "execution_count": 0,
      "outputs": []
    },
    {
      "cell_type": "code",
      "metadata": {
        "id": "Nf0Y7eGWoc_E",
        "colab_type": "code",
        "outputId": "cf702dbf-ed21-431b-f589-601ccff2f784",
        "colab": {
          "base_uri": "https://localhost:8080/",
          "height": 204
        }
      },
      "source": [
        "discursos.head()"
      ],
      "execution_count": 4,
      "outputs": [
        {
          "output_type": "execute_result",
          "data": {
            "text/html": [
              "<div>\n",
              "<style scoped>\n",
              "    .dataframe tbody tr th:only-of-type {\n",
              "        vertical-align: middle;\n",
              "    }\n",
              "\n",
              "    .dataframe tbody tr th {\n",
              "        vertical-align: top;\n",
              "    }\n",
              "\n",
              "    .dataframe thead th {\n",
              "        text-align: right;\n",
              "    }\n",
              "</style>\n",
              "<table border=\"1\" class=\"dataframe\">\n",
              "  <thead>\n",
              "    <tr style=\"text-align: right;\">\n",
              "      <th></th>\n",
              "      <th>data</th>\n",
              "      <th>autor</th>\n",
              "      <th>partido</th>\n",
              "      <th>uf</th>\n",
              "      <th>discurso</th>\n",
              "    </tr>\n",
              "  </thead>\n",
              "  <tbody>\n",
              "    <tr>\n",
              "      <th>0</th>\n",
              "      <td>09/04/2019</td>\n",
              "      <td>FELIPE FRANCISCHINI</td>\n",
              "      <td>PSL</td>\n",
              "      <td>PR</td>\n",
              "      <td>Havendo número regimental, declaro aberta a pr...</td>\n",
              "    </tr>\n",
              "    <tr>\n",
              "      <th>1</th>\n",
              "      <td>09/04/2019</td>\n",
              "      <td>AFONSO MOTTA</td>\n",
              "      <td>PDT</td>\n",
              "      <td>RS</td>\n",
              "      <td>Questão de ordem, Sr. Presidente.</td>\n",
              "    </tr>\n",
              "    <tr>\n",
              "      <th>2</th>\n",
              "      <td>09/04/2019</td>\n",
              "      <td>FELIPE FRANCISCHINI</td>\n",
              "      <td>PSL</td>\n",
              "      <td>PR</td>\n",
              "      <td>Questão de ordem do Deputado Afonso Motta.</td>\n",
              "    </tr>\n",
              "    <tr>\n",
              "      <th>3</th>\n",
              "      <td>09/04/2019</td>\n",
              "      <td>AFONSO MOTTA</td>\n",
              "      <td>PDT</td>\n",
              "      <td>RS</td>\n",
              "      <td>Sr. Presidente, o fundamento da minha questão ...</td>\n",
              "    </tr>\n",
              "    <tr>\n",
              "      <th>4</th>\n",
              "      <td>09/04/2019</td>\n",
              "      <td>FELIPE FRANCISCHINI</td>\n",
              "      <td>PSL</td>\n",
              "      <td>PR</td>\n",
              "      <td>Só um minuto, Deputado. Deputados, por favor, ...</td>\n",
              "    </tr>\n",
              "  </tbody>\n",
              "</table>\n",
              "</div>"
            ],
            "text/plain": [
              "         data  ...                                           discurso\n",
              "0  09/04/2019  ...  Havendo número regimental, declaro aberta a pr...\n",
              "1  09/04/2019  ...                  Questão de ordem, Sr. Presidente.\n",
              "2  09/04/2019  ...         Questão de ordem do Deputado Afonso Motta.\n",
              "3  09/04/2019  ...  Sr. Presidente, o fundamento da minha questão ...\n",
              "4  09/04/2019  ...  Só um minuto, Deputado. Deputados, por favor, ...\n",
              "\n",
              "[5 rows x 5 columns]"
            ]
          },
          "metadata": {
            "tags": []
          },
          "execution_count": 4
        }
      ]
    },
    {
      "cell_type": "markdown",
      "metadata": {
        "id": "wEruygQGo77V",
        "colab_type": "text"
      },
      "source": [
        "### Processamento dos dados\n",
        "\n",
        "- Remover stopwords"
      ]
    },
    {
      "cell_type": "code",
      "metadata": {
        "id": "aTG6i-oaxASQ",
        "colab_type": "code",
        "outputId": "4dd92be2-3c5b-4e9e-a3c9-018a1d53b972",
        "colab": {
          "base_uri": "https://localhost:8080/",
          "height": 51
        }
      },
      "source": [
        "nltk.download('stopwords')\n",
        "\n",
        "# removendo stopwords\n",
        "default_stopwords = set(stopwords.words('portuguese'))\n",
        "stopwords_complement = [\"\",\"neste\",\"és\", \"é\", \"somos\", \"sois\", \"são\", \"era\", \"eras\", \"éreis\", \"foste\", \"fostes\", \"foras\",\t\"fôreis\",\t\"serás\", \"sereis\", \"serão\",\t\"serias\", \"seríeis\", \"sejas\", \"sejais\", \"fosses\", \"fôsseis\", \"fores\", \"fordes\", \"sê\", \"sejas\", \"sejais\", \"ser\", \"seres\", \"sermos\",\t\"serdes\",\t\"serem\", \"sobre\", \"é\"]\n",
        "\n",
        "stopwords_complement.extend(default_stopwords)"
      ],
      "execution_count": 5,
      "outputs": [
        {
          "output_type": "stream",
          "text": [
            "[nltk_data] Downloading package stopwords to /root/nltk_data...\n",
            "[nltk_data]   Unzipping corpora/stopwords.zip.\n"
          ],
          "name": "stdout"
        }
      ]
    },
    {
      "cell_type": "code",
      "metadata": {
        "id": "tJuGGKrLG3lU",
        "colab_type": "code",
        "outputId": "1774cb61-e6c7-460f-93ea-68e3a2e90ab7",
        "cellView": "both",
        "colab": {
          "base_uri": "https://localhost:8080/",
          "height": 122
        }
      },
      "source": [
        "# @title Importando modelo \n",
        "from google.colab import drive\n",
        "drive.mount('/content/drive')"
      ],
      "execution_count": 6,
      "outputs": [
        {
          "output_type": "stream",
          "text": [
            "Go to this URL in a browser: https://accounts.google.com/o/oauth2/auth?client_id=947318989803-6bn6qk8qdgf4n4g3pfee6491hc0brc4i.apps.googleusercontent.com&redirect_uri=urn%3Aietf%3Awg%3Aoauth%3A2.0%3Aoob&scope=email%20https%3A%2F%2Fwww.googleapis.com%2Fauth%2Fdocs.test%20https%3A%2F%2Fwww.googleapis.com%2Fauth%2Fdrive%20https%3A%2F%2Fwww.googleapis.com%2Fauth%2Fdrive.photos.readonly%20https%3A%2F%2Fwww.googleapis.com%2Fauth%2Fpeopleapi.readonly&response_type=code\n",
            "\n",
            "Enter your authorization code:\n",
            "··········\n",
            "Mounted at /content/drive\n"
          ],
          "name": "stdout"
        }
      ]
    },
    {
      "cell_type": "code",
      "metadata": {
        "id": "tiKG268PyrCW",
        "colab_type": "code",
        "outputId": "187b9a3b-4258-4a34-e079-b6084761581b",
        "cellView": "both",
        "colab": {
          "base_uri": "https://localhost:8080/",
          "height": 71
        }
      },
      "source": [
        "# @title Carregando modelo\n",
        "model = Word2Vec.load('./drive/My Drive/tcc/tcc/dados/modelo/dados/modelo_tudo/model.txt')"
      ],
      "execution_count": 7,
      "outputs": [
        {
          "output_type": "stream",
          "text": [
            "/usr/local/lib/python3.6/dist-packages/smart_open/smart_open_lib.py:402: UserWarning: This function is deprecated, use smart_open.open instead. See the migration notes for details: https://github.com/RaRe-Technologies/smart_open/blob/master/README.rst#migrating-to-the-new-open-function\n",
            "  'See the migration notes for details: %s' % _MIGRATION_NOTES_URL\n"
          ],
          "name": "stderr"
        }
      ]
    },
    {
      "cell_type": "markdown",
      "metadata": {
        "id": "yzu6kOM-pvY1",
        "colab_type": "text"
      },
      "source": [
        "### Análises e construção dos docs\n",
        "\n",
        "- Análise de similaridade e agrupamento de discursos"
      ]
    },
    {
      "cell_type": "markdown",
      "metadata": {
        "id": "Q4Dhjgocy28k",
        "colab_type": "text"
      },
      "source": [
        "#### TSNE e PCA"
      ]
    },
    {
      "cell_type": "code",
      "metadata": {
        "id": "sU_LJ5h_y1lQ",
        "colab_type": "code",
        "colab": {}
      },
      "source": [
        "def tsnescatterplot(model, word, list_names):\n",
        "   \n",
        "    arrays = np.empty((0, 300), dtype='f')\n",
        "    word_labels = [word]\n",
        "    color_list  = ['red']\n",
        "\n",
        "    # adds the vector of the query word\n",
        "    arrays = np.append(arrays, model.wv.__getitem__([word]), axis=0)\n",
        "    \n",
        "    # gets list of most similar words\n",
        "    close_words = model.wv.most_similar([word])\n",
        "    \n",
        "    # adds the vector for each of the closest words to the array\n",
        "    for wrd_score in close_words:\n",
        "        wrd_vector = model.wv.__getitem__([wrd_score[0]])\n",
        "        word_labels.append(wrd_score[0])\n",
        "        color_list.append('blue')\n",
        "        arrays = np.append(arrays, wrd_vector, axis=0)\n",
        "    \n",
        "    # adds the vector for each of the words from list_names to the array\n",
        "    for wrd in list_names:\n",
        "        wrd_vector = model.wv.__getitem__([wrd])\n",
        "        word_labels.append(wrd)\n",
        "        color_list.append('green')\n",
        "        arrays = np.append(arrays, wrd_vector, axis=0)\n",
        "        \n",
        "    # Reduces the dimensionality from 300 to 50 dimensions with PCA\n",
        "    reduc = PCA(n_components=12).fit_transform(arrays)\n",
        "    \n",
        "    # Finds t-SNE coordinates for 2 dimensions\n",
        "    np.set_printoptions(suppress=True)\n",
        "    \n",
        "    Y = TSNE(n_components=2, random_state=0, perplexity=15).fit_transform(reduc)\n",
        "    \n",
        "    # Sets everything up to plot\n",
        "    df = pd.DataFrame({'x': [x for x in Y[:, 0]],\n",
        "                       'y': [y for y in Y[:, 1]],\n",
        "                       'words': word_labels,\n",
        "                       'color': color_list})\n",
        "    \n",
        "    fig, _ = plt.subplots()\n",
        "    fig.set_size_inches(9, 9)\n",
        "    \n",
        "    # Basic plot\n",
        "    p1 = sns.regplot(data=df,\n",
        "                     x=\"x\",\n",
        "                     y=\"y\",\n",
        "                     fit_reg=False,\n",
        "                     marker=\"o\",\n",
        "                     scatter_kws={'s': 40,\n",
        "                                  'facecolors': df['color']\n",
        "                                 }\n",
        "                    )\n",
        "    \n",
        "    # Adds annotations one by one with a loop\n",
        "    for line in range(0, df.shape[0]):\n",
        "         p1.text(df[\"x\"][line],\n",
        "                 df['y'][line],\n",
        "                 '  ' + df[\"words\"][line].title(),\n",
        "                 horizontalalignment='left',\n",
        "                 verticalalignment='bottom', size='medium',\n",
        "                 color=df['color'][line],\n",
        "                 weight='normal'\n",
        "                ).set_size(15)\n",
        "\n",
        "    \n",
        "    plt.xlim(Y[:, 0].min()-50, Y[:, 0].max()+50)\n",
        "    plt.ylim(Y[:, 1].min()-50, Y[:, 1].max()+50)\n",
        "            \n",
        "    plt.title('t-SNE visualization for {}'.format(word.title()))"
      ],
      "execution_count": 0,
      "outputs": []
    },
    {
      "cell_type": "code",
      "metadata": {
        "id": "TFXCFxmXzbKe",
        "colab_type": "code",
        "outputId": "f15a8333-7815-406d-82e6-0bac4c701f63",
        "colab": {
          "base_uri": "https://localhost:8080/",
          "height": 621
        }
      },
      "source": [
        "tsnescatterplot(model, 'pt', [t[0] for t in model.wv.most_similar(positive=[\"eleição\"], topn=20)][10:])"
      ],
      "execution_count": 11,
      "outputs": [
        {
          "output_type": "stream",
          "text": [
            "/usr/local/lib/python3.6/dist-packages/gensim/matutils.py:737: FutureWarning: Conversion of the second argument of issubdtype from `int` to `np.signedinteger` is deprecated. In future, it will be treated as `np.int64 == np.dtype(int).type`.\n",
            "  if np.issubdtype(vec.dtype, np.int):\n"
          ],
          "name": "stderr"
        },
        {
          "output_type": "display_data",
          "data": {
            "image/png": "[encoded data removed]",
            "text/plain": [
              "<Figure size 648x648 with 1 Axes>"
            ]
          },
          "metadata": {
            "tags": []
          }
        }
      ]
    },
    {
      "cell_type": "code",
      "metadata": {
        "id": "YPxMaR5Gz5o4",
        "colab_type": "code",
        "outputId": "02963941-a7a3-42d8-8bc3-f3d57f67d6f4",
        "colab": {
          "base_uri": "https://localhost:8080/",
          "height": 621
        }
      },
      "source": [
        "tsnescatterplot(model, 'psl', [t[0] for t in model.wv.most_similar(positive=[\"eleição\"], topn=20)][10:])"
      ],
      "execution_count": 12,
      "outputs": [
        {
          "output_type": "stream",
          "text": [
            "/usr/local/lib/python3.6/dist-packages/gensim/matutils.py:737: FutureWarning: Conversion of the second argument of issubdtype from `int` to `np.signedinteger` is deprecated. In future, it will be treated as `np.int64 == np.dtype(int).type`.\n",
            "  if np.issubdtype(vec.dtype, np.int):\n"
          ],
          "name": "stderr"
        },
        {
          "output_type": "display_data",
          "data": {
            "image/png": "[encoded data removed]",
            "text/plain": [
              "<Figure size 648x648 with 1 Axes>"
            ]
          },
          "metadata": {
            "tags": []
          }
        }
      ]
    },
    {
      "cell_type": "code",
      "metadata": {
        "id": "rUnPGH9bs7Si",
        "colab_type": "code",
        "colab": {}
      },
      "source": [
        "def display_table(list_model):\n",
        "  list_model.insert(0, (\"Word\", \"Most similar\"))\n",
        "  return display(HTML(tabulate.tabulate(list_model, tablefmt='html')))"
      ],
      "execution_count": 0,
      "outputs": []
    },
    {
      "cell_type": "code",
      "metadata": {
        "id": "CjYaD1dCoxbo",
        "colab_type": "code",
        "outputId": "f1cab852-6f45-4622-fccb-1f0000904ec9",
        "colab": {
          "base_uri": "https://localhost:8080/",
          "height": 409
        }
      },
      "source": [
        "w1 = [\"psl\", \"eleição\"]\n",
        "psl_eleicao = model.wv.most_similar(positive=w1, topn=15)\n",
        "display_table(psl_eleicao)"
      ],
      "execution_count": 14,
      "outputs": [
        {
          "output_type": "stream",
          "text": [
            "/usr/local/lib/python3.6/dist-packages/gensim/matutils.py:737: FutureWarning: Conversion of the second argument of issubdtype from `int` to `np.signedinteger` is deprecated. In future, it will be treated as `np.int64 == np.dtype(int).type`.\n",
            "  if np.issubdtype(vec.dtype, np.int):\n"
          ],
          "name": "stderr"
        },
        {
          "output_type": "display_data",
          "data": {
            "text/html": [
              "<table>\n",
              "<tbody>\n",
              "<tr><td>Word                </td><td>Most similar      </td></tr>\n",
              "<tr><td>disputa_presidencial</td><td>0.588344931602478 </td></tr>\n",
              "<tr><td>psdb                </td><td>0.587361752986908 </td></tr>\n",
              "<tr><td>psb                 </td><td>0.5846381783485413</td></tr>\n",
              "<tr><td>primeiro_turno      </td><td>0.5844425559043884</td></tr>\n",
              "<tr><td>pt                  </td><td>0.5711968541145325</td></tr>\n",
              "<tr><td>eleição_presidencial</td><td>0.5704576969146729</td></tr>\n",
              "<tr><td>segundo_turno       </td><td>0.5625052452087402</td></tr>\n",
              "<tr><td>partido             </td><td>0.5623390674591064</td></tr>\n",
              "<tr><td>º_turno             </td><td>0.5591490268707275</td></tr>\n",
              "<tr><td>candidato           </td><td>0.5578901767730713</td></tr>\n",
              "<tr><td>eleicao             </td><td>0.5500101447105408</td></tr>\n",
              "<tr><td>legenda             </td><td>0.5445976257324219</td></tr>\n",
              "<tr><td>eleições            </td><td>0.5422751903533936</td></tr>\n",
              "<tr><td>aécio               </td><td>0.5380866527557373</td></tr>\n",
              "<tr><td>corrida_presidencial</td><td>0.5341430902481079</td></tr>\n",
              "</tbody>\n",
              "</table>"
            ],
            "text/plain": [
              "<IPython.core.display.HTML object>"
            ]
          },
          "metadata": {
            "tags": []
          }
        }
      ]
    },
    {
      "cell_type": "code",
      "metadata": {
        "id": "geuuAu-ho6lN",
        "colab_type": "code",
        "outputId": "0e47724f-f477-4bda-ce33-9d75c4c68ae8",
        "colab": {
          "base_uri": "https://localhost:8080/",
          "height": 409
        }
      },
      "source": [
        "w2 = [\"pt\", \"eleição\"]\n",
        "pt_eleicao = model.wv.most_similar(positive=w2,topn=15)\n",
        "display_table(pt_eleicao)"
      ],
      "execution_count": 15,
      "outputs": [
        {
          "output_type": "stream",
          "text": [
            "/usr/local/lib/python3.6/dist-packages/gensim/matutils.py:737: FutureWarning: Conversion of the second argument of issubdtype from `int` to `np.signedinteger` is deprecated. In future, it will be treated as `np.int64 == np.dtype(int).type`.\n",
            "  if np.issubdtype(vec.dtype, np.int):\n"
          ],
          "name": "stderr"
        },
        {
          "output_type": "display_data",
          "data": {
            "text/html": [
              "<table>\n",
              "<tbody>\n",
              "<tr><td>Word                </td><td>Most similar      </td></tr>\n",
              "<tr><td>psdb                </td><td>0.7169778347015381</td></tr>\n",
              "<tr><td>partido             </td><td>0.711920440196991 </td></tr>\n",
              "<tr><td>pmdb                </td><td>0.6996710300445557</td></tr>\n",
              "<tr><td>dilma               </td><td>0.6925532817840576</td></tr>\n",
              "<tr><td>psb                 </td><td>0.6883174180984497</td></tr>\n",
              "<tr><td>petista             </td><td>0.6654148697853088</td></tr>\n",
              "<tr><td>aécio               </td><td>0.6623741388320923</td></tr>\n",
              "<tr><td>campanha            </td><td>0.6600621938705444</td></tr>\n",
              "<tr><td>eleições            </td><td>0.6445819139480591</td></tr>\n",
              "<tr><td>eleição_presidencial</td><td>0.6392370462417603</td></tr>\n",
              "<tr><td>primeiro_turno      </td><td>0.6263609528541565</td></tr>\n",
              "<tr><td>oposição            </td><td>0.6262978315353394</td></tr>\n",
              "<tr><td>legenda             </td><td>0.6200946569442749</td></tr>\n",
              "<tr><td>candidatura         </td><td>0.616804838180542 </td></tr>\n",
              "<tr><td>tucano              </td><td>0.6162877082824707</td></tr>\n",
              "</tbody>\n",
              "</table>"
            ],
            "text/plain": [
              "<IPython.core.display.HTML object>"
            ]
          },
          "metadata": {
            "tags": []
          }
        }
      ]
    },
    {
      "cell_type": "code",
      "metadata": {
        "id": "sAE8nvcdpCfm",
        "colab_type": "code",
        "outputId": "744a098e-fa1a-46a5-f727-51ffc1fe7dcf",
        "colab": {
          "base_uri": "https://localhost:8080/",
          "height": 409
        }
      },
      "source": [
        "w3 = [\"dilma\", \"pt\"]\n",
        "w4 = [\"temer\"]\n",
        "imp = model.wv.most_similar(positive=w3, negative=w4, topn=15)\n",
        "display_table(imp)"
      ],
      "execution_count": 16,
      "outputs": [
        {
          "output_type": "stream",
          "text": [
            "/usr/local/lib/python3.6/dist-packages/gensim/matutils.py:737: FutureWarning: Conversion of the second argument of issubdtype from `int` to `np.signedinteger` is deprecated. In future, it will be treated as `np.int64 == np.dtype(int).type`.\n",
            "  if np.issubdtype(vec.dtype, np.int):\n"
          ],
          "name": "stderr"
        },
        {
          "output_type": "display_data",
          "data": {
            "text/html": [
              "<table>\n",
              "<tbody>\n",
              "<tr><td>Word          </td><td>Most similar      </td></tr>\n",
              "<tr><td>petista       </td><td>0.6747366189956665</td></tr>\n",
              "<tr><td>aécio         </td><td>0.6573087573051453</td></tr>\n",
              "<tr><td>psdb          </td><td>0.6545529365539551</td></tr>\n",
              "<tr><td>marina        </td><td>0.6415231227874756</td></tr>\n",
              "<tr><td>dilma_rousseff</td><td>0.6337395906448364</td></tr>\n",
              "<tr><td>psb           </td><td>0.6142704486846924</td></tr>\n",
              "<tr><td>candidata     </td><td>0.5955145359039307</td></tr>\n",
              "<tr><td>partido       </td><td>0.5933529138565063</td></tr>\n",
              "<tr><td>tucano        </td><td>0.5839331150054932</td></tr>\n",
              "<tr><td>pmdb          </td><td>0.5768914222717285</td></tr>\n",
              "<tr><td>marina_silva  </td><td>0.5671429634094238</td></tr>\n",
              "<tr><td>campanha      </td><td>0.5568559169769287</td></tr>\n",
              "<tr><td>oposição      </td><td>0.5552687048912048</td></tr>\n",
              "<tr><td>aécio_neves   </td><td>0.5523414611816406</td></tr>\n",
              "<tr><td>tucanos       </td><td>0.5516663789749146</td></tr>\n",
              "</tbody>\n",
              "</table>"
            ],
            "text/plain": [
              "<IPython.core.display.HTML object>"
            ]
          },
          "metadata": {
            "tags": []
          }
        }
      ]
    },
    {
      "cell_type": "markdown",
      "metadata": {
        "id": "1w9JzXmbvT0Z",
        "colab_type": "text"
      },
      "source": [
        "### Proximidade de discursos"
      ]
    },
    {
      "cell_type": "code",
      "metadata": {
        "id": "BxhKrk_LxcQy",
        "colab_type": "code",
        "colab": {}
      },
      "source": [
        "def discursos_2_array(id_discursos):\n",
        "    words = re.split(r'\\W+', discursos.loc[id_discursos].discurso)\n",
        "    no_stopwords_discursos = []\n",
        "    for word in words:\n",
        "        if word.lower() not in stopwords_complement:\n",
        "            no_stopwords_discursos.append(word.lower())\n",
        "    return no_stopwords_discursos"
      ],
      "execution_count": 0,
      "outputs": []
    },
    {
      "cell_type": "code",
      "metadata": {
        "id": "SF2j4CDzyA6j",
        "colab_type": "code",
        "colab": {}
      },
      "source": [
        "def discursos_2_embeddings(discursos_id):\n",
        "    words = discursos_2_array(discursos_id)\n",
        "    \n",
        "    embed_words = {}\n",
        "    for word in words:\n",
        "                \n",
        "        try:\n",
        "            embed_words[w] = model[w]\n",
        "        except:\n",
        "            continue      \n",
        "        \n",
        "    return words, embed_words"
      ],
      "execution_count": 0,
      "outputs": []
    },
    {
      "cell_type": "code",
      "metadata": {
        "id": "9SwK3agvyW2L",
        "colab_type": "code",
        "colab": {}
      },
      "source": [
        "def wmdistance(d1, d2):\n",
        "    d1, d1_embed = discursos_2_embeddings(d1)\n",
        "    d2, d2_embed = discursos_2_embeddings(d2)\n",
        "    \n",
        "    return model.wv.wmdistance(d1, d2)"
      ],
      "execution_count": 0,
      "outputs": []
    },
    {
      "cell_type": "code",
      "metadata": {
        "id": "8851AhOTvetD",
        "colab_type": "code",
        "outputId": "5fcff39c-45c7-43ee-8aa0-c2a1c550541b",
        "colab": {
          "base_uri": "https://localhost:8080/",
          "height": 54
        }
      },
      "source": [
        "discursos.discurso.loc[651]"
      ],
      "execution_count": 20,
      "outputs": [
        {
          "output_type": "execute_result",
          "data": {
            "text/plain": [
              "'Sr. Presidente, houve solicitação de alteração da minha inscrição, sou o décimo e alguma coisa, para falar no lugar do Deputado Alencar Santana Braga. Há uma autorização sobre a mesa, Sr. Presidente.'"
            ]
          },
          "metadata": {
            "tags": []
          },
          "execution_count": 20
        }
      ]
    },
    {
      "cell_type": "code",
      "metadata": {
        "id": "Iw4w9fAvvzq7",
        "colab_type": "code",
        "outputId": "393f4739-5463-4392-dc5a-7132fb5c89ac",
        "colab": {
          "base_uri": "https://localhost:8080/",
          "height": 34
        }
      },
      "source": [
        "discursos.discurso.loc[652]"
      ],
      "execution_count": 21,
      "outputs": [
        {
          "output_type": "execute_result",
          "data": {
            "text/plain": [
              "'Tudo bem, Deputado. Vamos aceitar. Com a palavra o Deputado José Guimarães.'"
            ]
          },
          "metadata": {
            "tags": []
          },
          "execution_count": 21
        }
      ]
    },
    {
      "cell_type": "code",
      "metadata": {
        "id": "XtcqcuJ-alL2",
        "colab_type": "code",
        "outputId": "8bf3036e-b4bf-48d8-e476-48e521d4b95f",
        "colab": {
          "base_uri": "https://localhost:8080/",
          "height": 34
        }
      },
      "source": [
        "wmdistance(651, 652)"
      ],
      "execution_count": 22,
      "outputs": [
        {
          "output_type": "execute_result",
          "data": {
            "text/plain": [
              "1.1269227889899303"
            ]
          },
          "metadata": {
            "tags": []
          },
          "execution_count": 22
        }
      ]
    },
    {
      "cell_type": "code",
      "metadata": {
        "id": "vgu2_sWsBNmc",
        "colab_type": "code",
        "colab": {}
      },
      "source": [
        "def similarity(discursos_ids):\n",
        "    score = {}\n",
        "    for i in range(0, discursos_ids):\n",
        "        score[i] = wmdistance(discursos_ids, i)\n",
        "    \n",
        "    sorted_discursos = sorted(score.items(), key=operator.itemgetter(1))\n",
        "    return [(i, discursos.loc[i].autor, discursos.loc[i].partido, discursos.loc[i].discurso, \"{0:.2f}\".format(j)) for i, j in sorted_discursos[1:4]]"
      ],
      "execution_count": 0,
      "outputs": []
    },
    {
      "cell_type": "code",
      "metadata": {
        "id": "KPY7y-6txDBI",
        "colab_type": "code",
        "colab": {}
      },
      "source": [
        "def info_disc(discurso_id):\n",
        "  print(discursos.loc[discurso_id].autor + \" (\" + discursos.loc[discurso_id].partido + \" - \" + discursos.loc[discurso_id].uf + \")\")\n",
        "  print(discursos.loc[discurso_id].discurso)"
      ],
      "execution_count": 0,
      "outputs": []
    },
    {
      "cell_type": "markdown",
      "metadata": {
        "id": "Y2iwjv6OIvlr",
        "colab_type": "text"
      },
      "source": [
        "#### Resultados do Word Mover's Distance\n"
      ]
    },
    {
      "cell_type": "code",
      "metadata": {
        "id": "mHxbi6ROBjST",
        "colab_type": "code",
        "outputId": "dd9fa41d-c90f-4434-d440-32dc53825e10",
        "colab": {
          "base_uri": "https://localhost:8080/",
          "height": 71
        }
      },
      "source": [
        "info_disc(409)"
      ],
      "execution_count": 25,
      "outputs": [
        {
          "output_type": "stream",
          "text": [
            "GERVÁSIO MAIA (PSB - PB)\n",
            "Sr. Presidente, quero dizer que o requerimento é de nossa autoria. Fizemos um levantamento, nos últimos dias, e constamos o seguinte: em apenas 139 Municípios dos 223 Municípios que tem, o Estado da Paraíba perderá mensalmente 144 milhões de reais Š em apenas 139 Municípios levantados. E são 223 Municípios, repito. Eu quero dizer a esta Comissão que é muito importante que cada Deputado, de cada Estado, faça um levantamento nos seus Municípios. Reunião de: 09/04/2019 Só para se ter uma ideia, Sr. Presidente, o segundo maior Município da Paraíba é o de Campina Grande. Sras. e Srs. Deputados, em Campina Grande, os beneficiários da Previdência recebem mensalmente 90 milhões de reais. Então, 90 milhões de reais por mês vão para os pobres do segundo maior Município do Estado da Paraíba. Se a reforma da Previdência for aprovada, sabem quanto Campina Grande vai perder por mês? Serão 22 milhões de reais, que sairão exatamente das pessoas mais pobres. Um pequeno detalhe: sabem quanto Campina Grande recebe do FPM FIM todos os meses? Uma média de 6 milhões e meio de reais. Sr. Presidente, eu poderia citar outros Municípios da Paraíba. Por exemplo, no Município do nosso Estado chamado Piancó, os beneficiários da Previdência recebem mensalmente 3 milhões e 700 mil reais. Se a reforma for aprovada, os beneficiários de Piancó, os pobres de Piancó, vão deixar de receber por mês algo em torno de 1 milhão de reais. Pois é, Sr. Presidente, são 144 milhões de reais a menos na Paraíba, somados apenas 139 Municípios. Esta reforma, se for aprovada por esta Casa, estabelecerá um tempo de miséria no Brasil. Nós apresentamos na terça-feira, quando o Sr. Ministro da Economia aqui esteve, Sr. Presidente, duas proposituras, de autoria do Deputado Danilo Cabral, do meu partido, e de outros Parlamentares, sobre a taxação dos ricos do Brasil. São pouco mais de 20 mil contribuintes. Se esses contribuintes forem taxados, Sr. Presidente, em 10 anos, haverá 1 trilhão e 300 bilhões de arrecadação a mais no Brasil. Aprovar a reforma da Previdência, retirando dos pobres sem mexer com os ricos, não será um corte de privilégios, será, com certeza, um novo tempo de fome, de miséria e de muita tristeza e desigualdade social no Brasil. Aprovar a reforma da Previdência, Sr. Presidente, é manchar as mãos de sangue. E nós que pertencemos ao PSB não podemos concordar com isso. Eu conheço a realidade do Nordeste do Brasil, Sr. Presidente. Vivo num Estado encravado no Semiárido nordestino, o Estado da Paraíba. Lá muito pouco chove. Para ficar em paz com a minha consciência, eu que sou temente a Deus, Sr. Presidente, não posso dar o meu voto a favor de uma reforma como essa. Vamos, sim, taxar os ricos! Vamos taxar os ricos, Sr. Presidente! A nossa Carta Mãe, a nossa Constituição, votada em 1988, permite isso. Vamos cobrar isso do Presidente Bolsonaro, que se posicionou durante muitos anos nesta Casa contra a retirada de benefícios dos mais pobres! Portanto, Sr. Presidente, nós votamos, é claro, pelo encaminhamento que fizemos, de retirada de pauta. Deixo aqui, Sr. Presidente, um apelo a todos os 513 Deputados desta Casa Legislativa: façam o levantamento que eu fiz durante todo o final de semana, sobre quanto cada um dos 223 Municípios da Paraíba perderá. Falo da retirada de 1 trilhão de reais anunciada pelo Ministro Paulo Guedes e pelo Presidente Bolsonaro. É uma retirada absurda, Sr. Presidente. Retirar isso dos pobres terá um peso e uma penalidade muito grandes perante Deus. Sr. Presidente, nós votamos, é claro, pela retirada de pauta. Esta Comissão ainda não está pronta para seguir adiante com a votação desta matéria. Muito obrigado.\n"
          ],
          "name": "stdout"
        }
      ]
    },
    {
      "cell_type": "code",
      "metadata": {
        "id": "aBzRNt-CSApV",
        "colab_type": "code",
        "colab": {
          "base_uri": "https://localhost:8080/",
          "height": 292
        },
        "outputId": "da77ded2-0d66-4837-fb9d-e8f3554e071d"
      },
      "source": [
        "similarity(409)"
      ],
      "execution_count": 26,
      "outputs": [
        {
          "output_type": "execute_result",
          "data": {
            "text/plain": [
              "[(284,\n",
              "  'GILSON MARQUES',\n",
              "  'NOVO',\n",
              "  'Sr. Presidente, nós vamos encaminhar contra o requerimento porque o Brasil está, sim, no cheque especial, e nós precisamos resolver esse furo. Não vejo soluções para resolvermos o problema da Previdência. Qual seria a solução, então? Imprimir dinheiro? Vai gerar inflação. Vamos deixar as pessoas fazerem empréstimo? O Governo fazer empréstimo? Vamos aumentar os impostos? Todas as soluções são piores do que fazer a reforma da Previdência. E esse papo de dizer que é inconstitucional não cola. O art. 201 da Constituição Federal diz que existe a necessidade de haver um equilíbrio atuarial entre despesa e gasto. Reunião de: 09/04/2019 Além disso, a reforma precisa combater as desigualdades, justamente o que consta lá no art. 3º da Constituição Federal, porque hoje nós temos 40 milhões de pessoas que recebem aposentadoria ou são pensionistas, das quais apenas 1 milhão de pessoas recebem 200 bilhões de reais da Previdência, dos 720 bilhões que se gastam, enquanto outros 30 milhões de pessoas recebem só 1.450 reais, em média. Existe uma grande transferência de riqueza da classe mais pobre para a classe mais rica. E corporativistas, Deputada, são os funcionários públicos que recebem essa grande fatia: os auditores fiscais, os juízes, os promotores, que se aposentam com valores superiores a 25 mil reais, 26 mil reais. Sabe quem paga a conta? São as pessoas que trabalham lá na base, que contribuem por 1.400 reais. Aí, eu escuto discurso assim:  Ah, mas o Governo que pague a conta!  Gente, o Governo não cria riqueza. Quem cria riqueza, quem produz são as pessoas. Ninguém do Estado, nenhum político vai botar a farda e vai capinar, ou vai ser motorista, ou vai ser servente. Quem cria riqueza são as pessoas; quem paga as altas aposentadorias são os funcionários, são os empregados. É, sim, essa a classe que vai mais penar e sofrer se não houver reforma, e é isso que nós queremos dizer. Ayn Rand diz que nós até podemos ignorar a realidade, mas não podemos ignorar as consequências dessa realidade. E a realidade de hoje é matemática: nós precisamos fazer um equilíbrio de contas. Isso, sim, é um combate ao retrocesso social, o que é mais um princípio constitucional. O que nós temos é um avanço social, porque nós, os políticos, assim como todos os outros, também precisamos nos aposentar no regime geral, com 5.800 reais de teto. Porque nós temos uma previdência especial, nós não vamos fazer a reforma? É corporativismo de quem? Ah! porque o banqueiro...  O que o banqueiro tem a ver com essa reforma? Não tem nada a ver! E mesmo que fossem eles a ter lucro, qual é o problema de se ter lucro? Eu gostaria que todo mundo tivesse lucro. Esse é o ponto. Se se taxar os bancos, o que vai acontecer? É uma ilusão muito grande achar que o dinheiro e a taxação vão sair do lucro. O banco vai repassar para os consumidores. A mesma coisa vai acontecer se se imprimir dinheiro; a mesma coisa, se se aumentarem os tributos: sempre a parte mais baixa da população é que vai pagar a conta. E já está pagando. É por isso que tem 720 bilhões de gasto lá, 300 bilhões de déficit. É muito interessante, porque todo mundo quer viver à custa do Estado, mas se esquece de que o Estado vive à custa de todos Š essa frase é de Frederic Bastiat. E me incomoda muito que a classe mais rica, na hora em que se aposenta com altos salários, venha dizer que quem vai pagar a conta são os pobres. Mas não; eles, os cooperativistas, os funcionários públicos de altos salários é que não querem perder as aposentadorias. Se fosse para combater o pobre, já teria sido aprovada a reforma, porque os pobres é que não têm corporativismo aqui dentro do Congresso. A prova disso é que se aprovou a anistia para partidos políticos, de dívidas, mas, agora, para se aprovar uma reforma da Previdência, a fim de que todo mundo receba igual, fica todo mundo de mi-mi-mi. Portanto, nós somos contra esse pedido e nos manifestamos veementemente para que isso seja discutido, para que o Brasil volte a crescer e para que essa conta seja paga por todos, de maneira igual.',\n",
              "  '0.90'),\n",
              " (282,\n",
              "  'SÂMIA BOMFIM',\n",
              "  'PSOL',\n",
              "  'Sr. Presidente, a PEC apresentada pelo Governo, a PEC da Reforma da Previdência, é muito incompatível com algumas cláusulas pétreas da nossa Constituição. Em primeiro lugar, de acordo com o próprio Vice-Presidente do Supremo Tribunal Federal, Ministro Luiz Fux, os princípios contribuitivo e solidário da nossa Previdência Social são cláusulas pétreas da Constituição. Por isso, não poderiam ser alterados por esta Câmara. Reunião de: 09/04/2019 Em segundo lugar, fere o princípio da segurança jurídica, tendo em vista que muitos itens, praticamente todos, que alteram a lógica da Previdência Social atual são passados para uma proposta de lei complementar, quando todos deveriam ser enquadrados como alterações constitucionais, o que são. Fere o princípio da segurança jurídica, trazendo insegurança para os trabalhadores brasileiros. Por isso, não deveria ser votada da forma como foi apresentada. Em terceiro lugar, a PEC também viola a cláusula pétrea que determina a vedação do retrocesso social, tendo em vista que milhões de trabalhadores brasileiros não terão sequer direito àquilo que hoje é um direito social, a aposentadoria. De acordo com a proposta apresentada, eles terão que individualmente se virar para garantir, ou não, o direito à aposentadoria. Sr. Presidente, na última semana, o Ministro Paulo Guedes teve a oportunidade de explicar a esta Comissão de Constituição e Justiça e ao povo brasileiro que, na verdade, essa proposta poderia ser justa, que essa proposta é factível e que melhoraria a vida do povo e a economia brasileira. No entanto, o Ministro teve uma postura provocadora e mostrou pouquíssima qualidade na discussão. Várias perguntas foram feitas, às quais até agora o Governo não respondeu. E eu duvido que algum membro do Governo tenha condição de respondê-las. A primeira delas é esta: quais são os custos para a transição do atual modelo de repartição para o modelo de capitalização, tendo em vista que os trabalhadores não mais contribuiriam para o atual modelo? O Presidente e o Ministro não respondem, tampouco a base do Governo, tendo em vista que sabem que o gasto seria muito maior do que o 1 trilhão de reais que eles dizem que vão economizar. Também não nos apresentaram nenhum cálculo atuarial que justifique esse suposto 1 trilhão de reais de economia. Ao mesmo tempo, são confrontados por uma série de especialistas e economistas que mostram que 75% dessa suposta economia, na verdade, seriam descarregados sobre trabalhadores que ganham até dois salários mínimos. E o Governo ainda tem a cara de pau de dizer que é um projeto que combate privilégios. Na verdade, isso é uma postura desrespeitosa com o povo brasileiro e com o povo trabalhador, que trabalha ao longo de sua vida. E agora vem um sujeito que é representante dos banqueiros, que inclusive está sendo investigado por má administração de fundos de pensão, e vem com uma postura corporativista, porque representa os setores que mais seriam beneficiados por um modelo de capitalização. Sr. Presidente, o modelo de capitalização está sendo revisto em 15 países nos quais foi implementado, porque os Governos dos países não têm condições de arcar com seus custos de transição. Por exemplo, no Chile Š do qual o Sr. Paulo Guedes tanto gosta, porque trabalhou para aquela ditadura sanguinária, que matou mais de 60 mil pessoas Š, ainda hoje se pagam os custos de transição. São 2,5% do PIB, que até hoje, 37 anos depois, a sociedade chilena é obrigada a bancar. Pior do que isso, é obrigada a bancar sem que haja a garantia de aposentaria para os idosos, tendo em vista que mais da metade daqueles idosos estão em condições de miséria, porque ganham menos de um salário mínimo. Aliás, o Chile é o País que tem o maior índice de idosos que se suicidam em toda a América Latina, porque foi essa a escolha daquele ditador naquela época na qual o Sr. Paulo Guedes e o Sr. Bolsonaro se inspiram para atacar a aposentadoria dos trabalhadores brasileiros. Por isso, é impossível que esta Câmara aprove o modelo de capitalização. Ele não garante que os trabalhadores tenham direito à aposentadoria no futuro; cria, sim, um rombo orçamentário gigantesco no País, tendo em vista que seus custos de transição são muito maiores do que o suposto 1 trilhão de reais de economia; e acaba com aquilo que é uma cláusula pétrea da Constituição: o direito à aposentadoria, o direito à seguridade social. Os cálculos que a base do Governo veio apresentar Š de que mais da metade do Orçamento é destinada à Previdência Š ele não tem nem condições de apresentar, pois, na verdade, não chega nem a 13% do Orçamento Geral esse gasto. O que nós deveríamos combater, na verdade, é o orçamento que já vai para os banqueiros, e eles querem aumentá-lo ainda mais. Por isso nós apresentamos o requerimento de retirada de pauta: porque é absolutamente inconstitucional a proposta. Obrigada, Presidente.',\n",
              "  '0.95'),\n",
              " (197,\n",
              "  'GILSON MARQUES',\n",
              "  'NOVO',\n",
              "  'Presidente, 56% do Orçamento do Brasil vai para o pagamento da previdência, sendo que só 20% da população recebe esse benefício, ou 40 milhões de pessoas do total de 207 milhões. Existe uma elite que recebe 10% de tudo o que Brasil arrecada. E aí as pessoas dizem:  Quem vai pagar o déficit? Esse déficit é histórico. O PT esteve 18 anos no governo e não fez nada para corrigir isso. O déficit não vem de agora. Já atrasamos muito essa discussão e precisamos ter coragem de enfrentá-la. Por que não hoje? Na semana passada, quando esperávamos aqui o Ministro Guedes, e ele não veio, disseram que ele não tinha coragem, que estávamos retardando o processo. Nós não queremos retardar isso. Vamos, sim, discutir a Previdência agora! Em média, 30 milhões de pessoas recebem 1.450 reais. Essa Previdência é a solidariedade do prejuízo. Precisamos enfrentar esse tema. O Partido Novo vota sim. Reunião de: 09/04/2019',\n",
              "  '0.96')]"
            ]
          },
          "metadata": {
            "tags": []
          },
          "execution_count": 26
        }
      ]
    },
    {
      "cell_type": "code",
      "metadata": {
        "id": "BMCUSG66BwFp",
        "colab_type": "code",
        "outputId": "f934ee25-a46d-418a-c71a-d2e051a87a8f",
        "colab": {
          "base_uri": "https://localhost:8080/",
          "height": 302
        }
      },
      "source": [
        "similarity(409)"
      ],
      "execution_count": 0,
      "outputs": [
        {
          "output_type": "execute_result",
          "data": {
            "text/plain": [
              "[(284,\n",
              "  'GILSON MARQUES',\n",
              "  'NOVO',\n",
              "  'Sr. Presidente, nós vamos encaminhar contra o requerimento porque o Brasil está, sim, no cheque especial, e nós precisamos resolver esse furo. Não vejo soluções para resolvermos o problema da Previdência. Qual seria a solução, então? Imprimir dinheiro? Vai gerar inflação. Vamos deixar as pessoas fazerem empréstimo? O Governo fazer empréstimo? Vamos aumentar os impostos? Todas as soluções são piores do que fazer a reforma da Previdência. E esse papo de dizer que é inconstitucional não cola. O art. 201 da Constituição Federal diz que existe a necessidade de haver um equilíbrio atuarial entre despesa e gasto. Reunião de: 09/04/2019 Além disso, a reforma precisa combater as desigualdades, justamente o que consta lá no art. 3º da Constituição Federal, porque hoje nós temos 40 milhões de pessoas que recebem aposentadoria ou são pensionistas, das quais apenas 1 milhão de pessoas recebem 200 bilhões de reais da Previdência, dos 720 bilhões que se gastam, enquanto outros 30 milhões de pessoas recebem só 1.450 reais, em média. Existe uma grande transferência de riqueza da classe mais pobre para a classe mais rica. E corporativistas, Deputada, são os funcionários públicos que recebem essa grande fatia: os auditores fiscais, os juízes, os promotores, que se aposentam com valores superiores a 25 mil reais, 26 mil reais. Sabe quem paga a conta? São as pessoas que trabalham lá na base, que contribuem por 1.400 reais. Aí, eu escuto discurso assim:  Ah, mas o Governo que pague a conta!  Gente, o Governo não cria riqueza. Quem cria riqueza, quem produz são as pessoas. Ninguém do Estado, nenhum político vai botar a farda e vai capinar, ou vai ser motorista, ou vai ser servente. Quem cria riqueza são as pessoas; quem paga as altas aposentadorias são os funcionários, são os empregados. É, sim, essa a classe que vai mais penar e sofrer se não houver reforma, e é isso que nós queremos dizer. Ayn Rand diz que nós até podemos ignorar a realidade, mas não podemos ignorar as consequências dessa realidade. E a realidade de hoje é matemática: nós precisamos fazer um equilíbrio de contas. Isso, sim, é um combate ao retrocesso social, o que é mais um princípio constitucional. O que nós temos é um avanço social, porque nós, os políticos, assim como todos os outros, também precisamos nos aposentar no regime geral, com 5.800 reais de teto. Porque nós temos uma previdência especial, nós não vamos fazer a reforma? É corporativismo de quem? Ah! porque o banqueiro...  O que o banqueiro tem a ver com essa reforma? Não tem nada a ver! E mesmo que fossem eles a ter lucro, qual é o problema de se ter lucro? Eu gostaria que todo mundo tivesse lucro. Esse é o ponto. Se se taxar os bancos, o que vai acontecer? É uma ilusão muito grande achar que o dinheiro e a taxação vão sair do lucro. O banco vai repassar para os consumidores. A mesma coisa vai acontecer se se imprimir dinheiro; a mesma coisa, se se aumentarem os tributos: sempre a parte mais baixa da população é que vai pagar a conta. E já está pagando. É por isso que tem 720 bilhões de gasto lá, 300 bilhões de déficit. É muito interessante, porque todo mundo quer viver à custa do Estado, mas se esquece de que o Estado vive à custa de todos Š essa frase é de Frederic Bastiat. E me incomoda muito que a classe mais rica, na hora em que se aposenta com altos salários, venha dizer que quem vai pagar a conta são os pobres. Mas não; eles, os cooperativistas, os funcionários públicos de altos salários é que não querem perder as aposentadorias. Se fosse para combater o pobre, já teria sido aprovada a reforma, porque os pobres é que não têm corporativismo aqui dentro do Congresso. A prova disso é que se aprovou a anistia para partidos políticos, de dívidas, mas, agora, para se aprovar uma reforma da Previdência, a fim de que todo mundo receba igual, fica todo mundo de mi-mi-mi. Portanto, nós somos contra esse pedido e nos manifestamos veementemente para que isso seja discutido, para que o Brasil volte a crescer e para que essa conta seja paga por todos, de maneira igual.',\n",
              "  '3.09'),\n",
              " (197,\n",
              "  'GILSON MARQUES',\n",
              "  'NOVO',\n",
              "  'Presidente, 56% do Orçamento do Brasil vai para o pagamento da previdência, sendo que só 20% da população recebe esse benefício, ou 40 milhões de pessoas do total de 207 milhões. Existe uma elite que recebe 10% de tudo o que Brasil arrecada. E aí as pessoas dizem:  Quem vai pagar o déficit? Esse déficit é histórico. O PT esteve 18 anos no governo e não fez nada para corrigir isso. O déficit não vem de agora. Já atrasamos muito essa discussão e precisamos ter coragem de enfrentá-la. Por que não hoje? Na semana passada, quando esperávamos aqui o Ministro Guedes, e ele não veio, disseram que ele não tinha coragem, que estávamos retardando o processo. Nós não queremos retardar isso. Vamos, sim, discutir a Previdência agora! Em média, 30 milhões de pessoas recebem 1.450 reais. Essa Previdência é a solidariedade do prejuízo. Precisamos enfrentar esse tema. O Partido Novo vota sim. Reunião de: 09/04/2019',\n",
              "  '3.24'),\n",
              " (282,\n",
              "  'SÂMIA BOMFIM',\n",
              "  'PSOL',\n",
              "  'Sr. Presidente, a PEC apresentada pelo Governo, a PEC da Reforma da Previdência, é muito incompatível com algumas cláusulas pétreas da nossa Constituição. Em primeiro lugar, de acordo com o próprio Vice-Presidente do Supremo Tribunal Federal, Ministro Luiz Fux, os princípios contribuitivo e solidário da nossa Previdência Social são cláusulas pétreas da Constituição. Por isso, não poderiam ser alterados por esta Câmara. Reunião de: 09/04/2019 Em segundo lugar, fere o princípio da segurança jurídica, tendo em vista que muitos itens, praticamente todos, que alteram a lógica da Previdência Social atual são passados para uma proposta de lei complementar, quando todos deveriam ser enquadrados como alterações constitucionais, o que são. Fere o princípio da segurança jurídica, trazendo insegurança para os trabalhadores brasileiros. Por isso, não deveria ser votada da forma como foi apresentada. Em terceiro lugar, a PEC também viola a cláusula pétrea que determina a vedação do retrocesso social, tendo em vista que milhões de trabalhadores brasileiros não terão sequer direito àquilo que hoje é um direito social, a aposentadoria. De acordo com a proposta apresentada, eles terão que individualmente se virar para garantir, ou não, o direito à aposentadoria. Sr. Presidente, na última semana, o Ministro Paulo Guedes teve a oportunidade de explicar a esta Comissão de Constituição e Justiça e ao povo brasileiro que, na verdade, essa proposta poderia ser justa, que essa proposta é factível e que melhoraria a vida do povo e a economia brasileira. No entanto, o Ministro teve uma postura provocadora e mostrou pouquíssima qualidade na discussão. Várias perguntas foram feitas, às quais até agora o Governo não respondeu. E eu duvido que algum membro do Governo tenha condição de respondê-las. A primeira delas é esta: quais são os custos para a transição do atual modelo de repartição para o modelo de capitalização, tendo em vista que os trabalhadores não mais contribuiriam para o atual modelo? O Presidente e o Ministro não respondem, tampouco a base do Governo, tendo em vista que sabem que o gasto seria muito maior do que o 1 trilhão de reais que eles dizem que vão economizar. Também não nos apresentaram nenhum cálculo atuarial que justifique esse suposto 1 trilhão de reais de economia. Ao mesmo tempo, são confrontados por uma série de especialistas e economistas que mostram que 75% dessa suposta economia, na verdade, seriam descarregados sobre trabalhadores que ganham até dois salários mínimos. E o Governo ainda tem a cara de pau de dizer que é um projeto que combate privilégios. Na verdade, isso é uma postura desrespeitosa com o povo brasileiro e com o povo trabalhador, que trabalha ao longo de sua vida. E agora vem um sujeito que é representante dos banqueiros, que inclusive está sendo investigado por má administração de fundos de pensão, e vem com uma postura corporativista, porque representa os setores que mais seriam beneficiados por um modelo de capitalização. Sr. Presidente, o modelo de capitalização está sendo revisto em 15 países nos quais foi implementado, porque os Governos dos países não têm condições de arcar com seus custos de transição. Por exemplo, no Chile Š do qual o Sr. Paulo Guedes tanto gosta, porque trabalhou para aquela ditadura sanguinária, que matou mais de 60 mil pessoas Š, ainda hoje se pagam os custos de transição. São 2,5% do PIB, que até hoje, 37 anos depois, a sociedade chilena é obrigada a bancar. Pior do que isso, é obrigada a bancar sem que haja a garantia de aposentaria para os idosos, tendo em vista que mais da metade daqueles idosos estão em condições de miséria, porque ganham menos de um salário mínimo. Aliás, o Chile é o País que tem o maior índice de idosos que se suicidam em toda a América Latina, porque foi essa a escolha daquele ditador naquela época na qual o Sr. Paulo Guedes e o Sr. Bolsonaro se inspiram para atacar a aposentadoria dos trabalhadores brasileiros. Por isso, é impossível que esta Câmara aprove o modelo de capitalização. Ele não garante que os trabalhadores tenham direito à aposentadoria no futuro; cria, sim, um rombo orçamentário gigantesco no País, tendo em vista que seus custos de transição são muito maiores do que o suposto 1 trilhão de reais de economia; e acaba com aquilo que é uma cláusula pétrea da Constituição: o direito à aposentadoria, o direito à seguridade social. Os cálculos que a base do Governo veio apresentar Š de que mais da metade do Orçamento é destinada à Previdência Š ele não tem nem condições de apresentar, pois, na verdade, não chega nem a 13% do Orçamento Geral esse gasto. O que nós deveríamos combater, na verdade, é o orçamento que já vai para os banqueiros, e eles querem aumentá-lo ainda mais. Por isso nós apresentamos o requerimento de retirada de pauta: porque é absolutamente inconstitucional a proposta. Obrigada, Presidente.',\n",
              "  '3.30')]"
            ]
          },
          "metadata": {
            "tags": []
          },
          "execution_count": 34
        }
      ]
    },
    {
      "cell_type": "code",
      "metadata": {
        "id": "Vn93Wd0uEATu",
        "colab_type": "code",
        "outputId": "8fbe8b5c-8641-4253-8d5d-db6c5bd0546c",
        "colab": {
          "base_uri": "https://localhost:8080/",
          "height": 72
        }
      },
      "source": [
        "info_disc(273)"
      ],
      "execution_count": 0,
      "outputs": [
        {
          "output_type": "stream",
          "text": [
            "ERIKA KOKAY (PT - DF)\n",
            "Sr. Presidente, o PT quer demonstrar alinhamento à proposta apresentada. Nós estamos lidando com um tema que vai mexer com um número por volta de 100 milhões de brasileiros e brasileiras, inclusive com a população de baixa renda, que pode não ter mais o direito à aposentadoria.\n"
          ],
          "name": "stdout"
        }
      ]
    },
    {
      "cell_type": "code",
      "metadata": {
        "id": "v8XAI1qbTUN2",
        "colab_type": "code",
        "colab": {
          "base_uri": "https://localhost:8080/",
          "height": 292
        },
        "outputId": "c23f1da6-7ec2-47c6-bed4-07ab949b4d66"
      },
      "source": [
        "similarity(273)"
      ],
      "execution_count": 27,
      "outputs": [
        {
          "output_type": "execute_result",
          "data": {
            "text/plain": [
              "[(197,\n",
              "  'GILSON MARQUES',\n",
              "  'NOVO',\n",
              "  'Presidente, 56% do Orçamento do Brasil vai para o pagamento da previdência, sendo que só 20% da população recebe esse benefício, ou 40 milhões de pessoas do total de 207 milhões. Existe uma elite que recebe 10% de tudo o que Brasil arrecada. E aí as pessoas dizem:  Quem vai pagar o déficit? Esse déficit é histórico. O PT esteve 18 anos no governo e não fez nada para corrigir isso. O déficit não vem de agora. Já atrasamos muito essa discussão e precisamos ter coragem de enfrentá-la. Por que não hoje? Na semana passada, quando esperávamos aqui o Ministro Guedes, e ele não veio, disseram que ele não tinha coragem, que estávamos retardando o processo. Nós não queremos retardar isso. Vamos, sim, discutir a Previdência agora! Em média, 30 milhões de pessoas recebem 1.450 reais. Essa Previdência é a solidariedade do prejuízo. Precisamos enfrentar esse tema. O Partido Novo vota sim. Reunião de: 09/04/2019',\n",
              "  '1.03'),\n",
              " (177,\n",
              "  'LUIZÃO GOULART',\n",
              "  'PRB',\n",
              "  'O PRB, Sr. Presidente, tem se aprofundado no tema da Previdência e reconhece que, mais cedo ou mais tarde, teremos que enfrentar o debate, discutir aprofundadamente o tema. Temos divergências em diversos pontos da proposta inicial, mas consideramos que a discussão tem que ser enfrentada. Nós votamos sim.',\n",
              "  '1.03'),\n",
              " (253,\n",
              "  'MARIA DO ROSÁRIO',\n",
              "  'PT',\n",
              "  'Sr. Presidente, eu queria registrar para a sociedade que está nos acompanhando que nós votamos pela obstrução, que é, na verdade, uma obstrução política. Ela representa uma contraposição ativa ao projeto. O sentido dessa obstrução é tentar que não haja votação. Se V.Exa. mesmo puder explicar... Não, pode deixar que eu explico.',\n",
              "  '1.06')]"
            ]
          },
          "metadata": {
            "tags": []
          },
          "execution_count": 27
        }
      ]
    },
    {
      "cell_type": "code",
      "metadata": {
        "id": "Emye9ck_EJ-0",
        "colab_type": "code",
        "outputId": "6b99a4f2-d9ca-48b4-c492-eb012cd1f775",
        "colab": {
          "base_uri": "https://localhost:8080/",
          "height": 231
        }
      },
      "source": [
        "similarity(273)"
      ],
      "execution_count": 0,
      "outputs": [
        {
          "output_type": "execute_result",
          "data": {
            "text/plain": [
              "[(271,\n",
              "  'MARCELO RAMOS',\n",
              "  'PR',\n",
              "  'Presidente, o PR quer apenas manifestar, desde já, alinhamento com a proposta apresentada pelo Deputado Arthur Maia.',\n",
              "  '3.30'),\n",
              " (99, 'FELIPE FRANCISCHINI', 'PSL', 'Aditar?', '3.30'),\n",
              " (177,\n",
              "  'LUIZÃO GOULART',\n",
              "  'PRB',\n",
              "  'O PRB, Sr. Presidente, tem se aprofundado no tema da Previdência e reconhece que, mais cedo ou mais tarde, teremos que enfrentar o debate, discutir aprofundadamente o tema. Temos divergências em diversos pontos da proposta inicial, mas consideramos que a discussão tem que ser enfrentada. Nós votamos sim.',\n",
              "  '3.33')]"
            ]
          },
          "metadata": {
            "tags": []
          },
          "execution_count": 38
        }
      ]
    },
    {
      "cell_type": "code",
      "metadata": {
        "id": "_V6zbZKoGvW3",
        "colab_type": "code",
        "outputId": "81ff4dc3-de40-461f-c2b9-49f43fe7da6a",
        "colab": {
          "base_uri": "https://localhost:8080/",
          "height": 72
        }
      },
      "source": [
        "info_disc(628)"
      ],
      "execution_count": 0,
      "outputs": [
        {
          "output_type": "stream",
          "text": [
            "HENRIQUE FONTANA (PT - RS)\n",
            "Nós estamos, evidentemente, dentro do acordo de procedimento, mas, como acaba de haver uma orientação, que eu respeito, do Deputado Trad, que, do meu ponto de vista, talvez na empolgação, trouxe o debate sobre o que os Governos Lula e Dilma fizeram em relação à Previdência, eu me sinto instado a fazer esta intervenção neste momento. De fato, nós não somos daqueles que pensam que ou se faz ou não se faz a reforma da Previdência, Deputado Renildo. Tem-se que fazer coisas justas. Por isso nós entendemos que esta proposta que está aqui é de tal maneira cruel e draconiana contra os mais pobres que não serve ao interesse da economia do Brasil nem ao Brasil. Agora, quando introduzimos, por exemplo, o fundo de previdência pública complementar para os novos servidores públicos a partir de 2013, essa reforma respeitou direito adquirido, foi justa socialmente, ajudou a Previdência, ajudou o País. Se fossem propostas coisas como essas, poderíamos fazer reforma de novo, mas não esta que está aí.\n"
          ],
          "name": "stdout"
        }
      ]
    },
    {
      "cell_type": "code",
      "metadata": {
        "id": "i6bpvDVpTnpy",
        "colab_type": "code",
        "colab": {
          "base_uri": "https://localhost:8080/",
          "height": 292
        },
        "outputId": "65d32ca9-d013-436c-be29-e80db8e89595"
      },
      "source": [
        "similarity(628)"
      ],
      "execution_count": 28,
      "outputs": [
        {
          "output_type": "execute_result",
          "data": {
            "text/plain": [
              "[(607,\n",
              "  'MARCEL VAN HATTEM',\n",
              "  'NOVO',\n",
              "  'Sr. Presidente, eu quero subscrever a defesa feita pelo meu colega, Deputado Gilson Marques, contra este requerimento. Afinal, nós precisamos discutir aqui a Previdência. Parabéns, aliás, Sr. Presidente, pela condução dos trabalhos ontem, apesar de toda a turbulência gerada aqui pela Oposição, que está nesta Casa fazendo um papel que deixa todos os colegas Deputados constrangidos perante a sociedade brasileira. Fazer obstrução é um direito, agora, na forma como estão fazendo, é uma vergonha: fazer leitura de ata, obrigar os Deputados aqui a assistirem a correções  fake  das atas... Isso nos deixa profundamente constrangidos e envergonhados. Não há nada que seja mais prioritário no Brasil do que a reforma da Previdência. O meu colega Gilson Marques foi muito correto. Aqui se trata de discutir a admissibilidade constitucional. Não se trata de mérito. Trata-se de saber se é ou não constitucional a PEC. Ponto. Se querem defender os mais ricos aqui, como o PSOL está fazendo, como a Oposição está fazendo, defender os mais privilegiados, defender quem ganha mais na Previdência Social, em detrimento de quem ganha menos, que o façam na Comissão de mérito, mas não façam aqui, nesta Comissão de Constituição e Justiça, que tanta respeitabilidade possui perante o País, esse tipo de obstrução baixa. Aliás, é bom lembrar que ontem houve um acordo do qual apenas o PSOL se eximiu Š apenas o PSOL! O PROS só o seguiu depois, porque viu que o PSOL iria fazer aquilo que está fazendo hoje: tentar dizer que é a única oposição existente, dividindo, inclusive, a Esquerda, indo contra as suas próprias origens, deixando o PT com o pincel na mão, porque o próprio PT estava de acordo com a proposta de debatermos das 10 horas da manhã às 10 horas da noite. E aqui fica o reconhecimento, não meu, mas de todos os partidos que participaram daquele acordo e viam que havia um interesse genuíno da Oposição de debater o assunto aqui, como houve no passado, quando a Oposição era Situação e quem hoje está na Situação era Oposição também teve o direito de debater. Agora, o PSOL, com essa atitude antidemocrática, antiparlamentar, contra os partidos políticos, de isolamento total da sociedade para defender os privilegiados da Previdência, para defender os mais ricos... Aqui, Sr. Presidente, é bom lembrar um dado que, volta e meia, o Partido Novo traz à baila. Dos 20% mais pobres da população brasileira, estes recebem apenas 3% dos gastos previdenciários e os 20% mais ricos, 41%. É esta velha previdência que o PSOL defende. É esta velha forma de fazer política, a de acabar com o próprio Parlamento e destruir a democracia desde dentro, que o PSOL defende, mas que nós não vamos aceitar. Reunião de: 16/04/2019 Chega de obstrução! Vamos votar, porque é isso que o Brasil espera. Nós queremos um Brasil melhor. Nós queremos uma nova Previdência, mais justa, em que os pobres saiam ganhando. Muito obrigado, Sr. Presidente.  (Palmas.)',\n",
              "  '0.98'),\n",
              " (455,\n",
              "  'RUBENS BUENO',\n",
              "  'CIDADANIA',\n",
              "  'Sr. Presidente, ouvindo o encaminhamento de vários membros desta Comissão, Líderes de bancada, percebo que fica o tempo. E o tempo sempre nos dá a capacidade de pensar nos momentos que passamos aqui. Fernando Henrique, Lula, Dilma, todos tentaram fazer uma reforma. Quando a fizeram, fizeram-na em parte. Michel Temer tentou fazê-la, e, na última hora, não conseguimos realizar a reforma da Previdência. Ela é fundamental para haver equilíbrio fiscal e confiança econômica neste País. E é por aí que nós vamos votar. Por isso, nós não queremos a retirada e votamos não.',\n",
              "  '0.99'),\n",
              " (534,\n",
              "  'JOICE HASSELMANN',\n",
              "  'PSL',\n",
              "  'Presidente, está muito claro que a Oposição está querendo fazer manobra de obstrução, essa conversa toda que a gente já conhece. Então, eu vou seguir aqui com o que eu preciso falar. Fiquem à vontade para filmar. Eu sou a favor da democracia, da liberdade, da transparência. Podem filmar o que quiserem e o que bem entenderem, podem fazer  live  que não tem problema nenhum, porque eu sou a favor da transparência. Sr. Presidente, como eu dizia: chega de hipocrisia. É hora de enfrentar esse  lobby  de poderosos. A nova Previdência é, acima de tudo, justa, matematicamente justa. Aqueles que ganham mais contribuem com mais, os que ganham menos contribuem com menos. A proposta da nova Previdência é absolutamente constitucional em todo o seu teor, e é esta discussão que tem que se fazer nesta Comissão: a constitucionalidade da proposta. Os maiores especialistas deste País e o corpo desta CCJ já comprovaram que os direitos adquiridos foram garantidos. E até com relação à expectativa de direitos houve respeito, com opções de transição, para não prejudicar quem hoje está no mercado de trabalho. A proposição dá a este Parlamento autonomia para discutir e legislar, exercendo a representatividade legítima que nos foi dada pela população. Cada um de nós aqui, gostemos ou não, da base, da Oposição, aqueles que estão neutros, tem esse direito legítimo que nos foi dado pela população, e eu respeito esse direito, incluindo o direito da Oposição, que, muitas vezes, não respeita o nosso direito aqui. Nós temos que discutir o tema de forma legítima, desconstitucionalizar aspectos regulatórios, elevar o Brasil, para enfrentar as constantes transformações sociais, Presidente. O que eu quero dizer aqui é que quem se preocupa de fato com o Brasil, Presidente, quem se preocupa com o crescimento desta Nação, quem se preocupa com os pobres de verdade, quem se preocupa com a geração de emprego, quem quer ver este Brasil crescer de verdade, quem quer falar a verdade, acima de tudo, e não ficar se escondendo por meio de hipocrisias e mentiras, vota pela nova Previdência, porque quer um Brasil grande, gigante e decente.  (Palmas.)',\n",
              "  '1.00')]"
            ]
          },
          "metadata": {
            "tags": []
          },
          "execution_count": 28
        }
      ]
    },
    {
      "cell_type": "code",
      "metadata": {
        "id": "p89rMeukG0Qd",
        "colab_type": "code",
        "outputId": "9138ff6b-fe15-4eed-9207-23a4efb652c9",
        "colab": {
          "base_uri": "https://localhost:8080/",
          "height": 231
        }
      },
      "source": [
        "similarity(628)"
      ],
      "execution_count": 0,
      "outputs": [
        {
          "output_type": "execute_result",
          "data": {
            "text/plain": [
              "[(455,\n",
              "  'RUBENS BUENO',\n",
              "  'CIDADANIA',\n",
              "  'Sr. Presidente, ouvindo o encaminhamento de vários membros desta Comissão, Líderes de bancada, percebo que fica o tempo. E o tempo sempre nos dá a capacidade de pensar nos momentos que passamos aqui. Fernando Henrique, Lula, Dilma, todos tentaram fazer uma reforma. Quando a fizeram, fizeram-na em parte. Michel Temer tentou fazê-la, e, na última hora, não conseguimos realizar a reforma da Previdência. Ela é fundamental para haver equilíbrio fiscal e confiança econômica neste País. E é por aí que nós vamos votar. Por isso, nós não queremos a retirada e votamos não.',\n",
              "  '3.28'),\n",
              " (99, 'FELIPE FRANCISCHINI', 'PSL', 'Aditar?', '3.28'),\n",
              " (607,\n",
              "  'MARCEL VAN HATTEM',\n",
              "  'NOVO',\n",
              "  'Sr. Presidente, eu quero subscrever a defesa feita pelo meu colega, Deputado Gilson Marques, contra este requerimento. Afinal, nós precisamos discutir aqui a Previdência. Parabéns, aliás, Sr. Presidente, pela condução dos trabalhos ontem, apesar de toda a turbulência gerada aqui pela Oposição, que está nesta Casa fazendo um papel que deixa todos os colegas Deputados constrangidos perante a sociedade brasileira. Fazer obstrução é um direito, agora, na forma como estão fazendo, é uma vergonha: fazer leitura de ata, obrigar os Deputados aqui a assistirem a correções  fake  das atas... Isso nos deixa profundamente constrangidos e envergonhados. Não há nada que seja mais prioritário no Brasil do que a reforma da Previdência. O meu colega Gilson Marques foi muito correto. Aqui se trata de discutir a admissibilidade constitucional. Não se trata de mérito. Trata-se de saber se é ou não constitucional a PEC. Ponto. Se querem defender os mais ricos aqui, como o PSOL está fazendo, como a Oposição está fazendo, defender os mais privilegiados, defender quem ganha mais na Previdência Social, em detrimento de quem ganha menos, que o façam na Comissão de mérito, mas não façam aqui, nesta Comissão de Constituição e Justiça, que tanta respeitabilidade possui perante o País, esse tipo de obstrução baixa. Aliás, é bom lembrar que ontem houve um acordo do qual apenas o PSOL se eximiu Š apenas o PSOL! O PROS só o seguiu depois, porque viu que o PSOL iria fazer aquilo que está fazendo hoje: tentar dizer que é a única oposição existente, dividindo, inclusive, a Esquerda, indo contra as suas próprias origens, deixando o PT com o pincel na mão, porque o próprio PT estava de acordo com a proposta de debatermos das 10 horas da manhã às 10 horas da noite. E aqui fica o reconhecimento, não meu, mas de todos os partidos que participaram daquele acordo e viam que havia um interesse genuíno da Oposição de debater o assunto aqui, como houve no passado, quando a Oposição era Situação e quem hoje está na Situação era Oposição também teve o direito de debater. Agora, o PSOL, com essa atitude antidemocrática, antiparlamentar, contra os partidos políticos, de isolamento total da sociedade para defender os privilegiados da Previdência, para defender os mais ricos... Aqui, Sr. Presidente, é bom lembrar um dado que, volta e meia, o Partido Novo traz à baila. Dos 20% mais pobres da população brasileira, estes recebem apenas 3% dos gastos previdenciários e os 20% mais ricos, 41%. É esta velha previdência que o PSOL defende. É esta velha forma de fazer política, a de acabar com o próprio Parlamento e destruir a democracia desde dentro, que o PSOL defende, mas que nós não vamos aceitar. Reunião de: 16/04/2019 Chega de obstrução! Vamos votar, porque é isso que o Brasil espera. Nós queremos um Brasil melhor. Nós queremos uma nova Previdência, mais justa, em que os pobres saiam ganhando. Muito obrigado, Sr. Presidente.  (Palmas.)',\n",
              "  '3.29')]"
            ]
          },
          "metadata": {
            "tags": []
          },
          "execution_count": 42
        }
      ]
    }
  ]
}