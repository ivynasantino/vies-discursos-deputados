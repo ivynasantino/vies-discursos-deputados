{
  "nbformat": 4,
  "nbformat_minor": 0,
  "metadata": {
    "colab": {
      "name": "vies_de_discursos.ipynb",
      "provenance": [],
      "collapsed_sections": [],
      "include_colab_link": true
    },
    "kernelspec": {
      "name": "python3",
      "display_name": "Python 3"
    }
  },
  "cells": [
    {
      "cell_type": "markdown",
      "metadata": {
        "id": "view-in-github",
        "colab_type": "text"
      },
      "source": [
        "<a href=\"https://colab.research.google.com/github/ivynasantino/vies-discursos-deputados/blob/master/reports/vies_de_discursos.ipynb\" target=\"_parent\"><img src=\"https://colab.research.google.com/assets/colab-badge.svg\" alt=\"Open In Colab\"/></a>"
      ]
    },
    {
      "cell_type": "markdown",
      "metadata": {
        "id": "RcexU4b0lsiX",
        "colab_type": "text"
      },
      "source": [
        "## Processamento de linguagem natural aplicada à análise de discursos de deputados\n",
        "\n",
        "Contexto: \n",
        "- **Contextualização**\n",
        "\n",
        "- **Objetivo da pesquisa:** Detectar viés de determinados termos(ainda definir) em discursos dos deputados federais da legislatura 56\n",
        "\n",
        "- **Dados utilizados:** Reunião da CCJC da PEC 06/2019 - Reforma da previdência\n",
        "\n",
        "- **Onde se encontra o dado:** A Câmara de deputados dispõe de notas taquigrafadas de cada reunião na sua [página]().\n",
        "\n",
        "- **Ferramentas utilizadas:**\n",
        "  - [Leg.go]() \n",
        "  - [Dados abertos]()\n",
        "  - [PyPdf2]()\n",
        "  - [Extrator de discursos]()\n",
        "  - [Gensim]()\n",
        "  - [rcongresso]()\n",
        "  \n",
        "- **Algoritmos utilizados:** "
      ]
    },
    {
      "cell_type": "code",
      "metadata": {
        "id": "mmkKuw5Llm68",
        "colab_type": "code",
        "cellView": "both",
        "outputId": "f2dc7f3c-edf0-47e0-c20c-76b802a00324",
        "colab": {
          "base_uri": "https://localhost:8080/",
          "height": 52
        }
      },
      "source": [
        "# @title Imports\n",
        "import pandas as pd\n",
        "import numpy as np\n",
        "import math \n",
        "import operator\n",
        "import re\n",
        "import collections\n",
        "\n",
        "import nltk\n",
        "nltk.download('punkt')\n",
        "from nltk.tokenize import RegexpTokenizer\n",
        "from nltk.corpus import stopwords\n",
        "\n",
        "from gensim.models import Word2Vec\n",
        "\n",
        "from pyemd import emd"
      ],
      "execution_count": 1,
      "outputs": [
        {
          "output_type": "stream",
          "text": [
            "[nltk_data] Downloading package punkt to /root/nltk_data...\n",
            "[nltk_data]   Unzipping tokenizers/punkt.zip.\n"
          ],
          "name": "stdout"
        }
      ]
    },
    {
      "cell_type": "markdown",
      "metadata": {
        "id": "yStvIoiOnixZ",
        "colab_type": "text"
      },
      "source": [
        "### Base de dados"
      ]
    },
    {
      "cell_type": "code",
      "metadata": {
        "id": "SN5WI7p_noYM",
        "colab_type": "code",
        "cellView": "both",
        "colab": {}
      },
      "source": [
        "# @title Dataframe de discursos\n",
        "url = \"https://raw.githubusercontent.com/ivynasantino/vies-discursos-deputados/master/data/all_discursos.csv\"\n",
        "discursos = pd.read_csv(url)"
      ],
      "execution_count": 0,
      "outputs": []
    },
    {
      "cell_type": "code",
      "metadata": {
        "id": "Nf0Y7eGWoc_E",
        "colab_type": "code",
        "outputId": "2199e7b1-aefe-4fee-a0fb-fbb6b31f70af",
        "colab": {
          "base_uri": "https://localhost:8080/",
          "height": 202
        }
      },
      "source": [
        "discursos.head()"
      ],
      "execution_count": 3,
      "outputs": [
        {
          "output_type": "execute_result",
          "data": {
            "text/html": [
              "<div>\n",
              "<style scoped>\n",
              "    .dataframe tbody tr th:only-of-type {\n",
              "        vertical-align: middle;\n",
              "    }\n",
              "\n",
              "    .dataframe tbody tr th {\n",
              "        vertical-align: top;\n",
              "    }\n",
              "\n",
              "    .dataframe thead th {\n",
              "        text-align: right;\n",
              "    }\n",
              "</style>\n",
              "<table border=\"1\" class=\"dataframe\">\n",
              "  <thead>\n",
              "    <tr style=\"text-align: right;\">\n",
              "      <th></th>\n",
              "      <th>data</th>\n",
              "      <th>autor</th>\n",
              "      <th>partido</th>\n",
              "      <th>uf</th>\n",
              "      <th>discurso</th>\n",
              "    </tr>\n",
              "  </thead>\n",
              "  <tbody>\n",
              "    <tr>\n",
              "      <th>0</th>\n",
              "      <td>09/04/2019</td>\n",
              "      <td>FELIPE FRANCISCHINI</td>\n",
              "      <td>PSL</td>\n",
              "      <td>PR</td>\n",
              "      <td>Havendo número regimental, declaro aberta a pr...</td>\n",
              "    </tr>\n",
              "    <tr>\n",
              "      <th>1</th>\n",
              "      <td>09/04/2019</td>\n",
              "      <td>AFONSO MOTTA</td>\n",
              "      <td>PDT</td>\n",
              "      <td>RS</td>\n",
              "      <td>Questão de ordem, Sr. Presidente.</td>\n",
              "    </tr>\n",
              "    <tr>\n",
              "      <th>2</th>\n",
              "      <td>09/04/2019</td>\n",
              "      <td>FELIPE FRANCISCHINI</td>\n",
              "      <td>PSL</td>\n",
              "      <td>PR</td>\n",
              "      <td>Questão de ordem do Deputado Afonso Motta.</td>\n",
              "    </tr>\n",
              "    <tr>\n",
              "      <th>3</th>\n",
              "      <td>09/04/2019</td>\n",
              "      <td>AFONSO MOTTA</td>\n",
              "      <td>PDT</td>\n",
              "      <td>RS</td>\n",
              "      <td>Sr. Presidente, o fundamento da minha questão ...</td>\n",
              "    </tr>\n",
              "    <tr>\n",
              "      <th>4</th>\n",
              "      <td>09/04/2019</td>\n",
              "      <td>FELIPE FRANCISCHINI</td>\n",
              "      <td>PSL</td>\n",
              "      <td>PR</td>\n",
              "      <td>Só um minuto, Deputado. Deputados, por favor, ...</td>\n",
              "    </tr>\n",
              "  </tbody>\n",
              "</table>\n",
              "</div>"
            ],
            "text/plain": [
              "         data  ...                                           discurso\n",
              "0  09/04/2019  ...  Havendo número regimental, declaro aberta a pr...\n",
              "1  09/04/2019  ...                  Questão de ordem, Sr. Presidente.\n",
              "2  09/04/2019  ...         Questão de ordem do Deputado Afonso Motta.\n",
              "3  09/04/2019  ...  Sr. Presidente, o fundamento da minha questão ...\n",
              "4  09/04/2019  ...  Só um minuto, Deputado. Deputados, por favor, ...\n",
              "\n",
              "[5 rows x 5 columns]"
            ]
          },
          "metadata": {
            "tags": []
          },
          "execution_count": 3
        }
      ]
    },
    {
      "cell_type": "markdown",
      "metadata": {
        "id": "wEruygQGo77V",
        "colab_type": "text"
      },
      "source": [
        "### Processamento dos dados\n",
        "\n",
        "- Remover stopwords\n",
        "- Remover caractere \"+\""
      ]
    },
    {
      "cell_type": "code",
      "metadata": {
        "id": "aTG6i-oaxASQ",
        "colab_type": "code",
        "colab": {
          "base_uri": "https://localhost:8080/",
          "height": 52
        },
        "outputId": "754d9c85-d1d0-44d0-aee8-a6b285924d3c"
      },
      "source": [
        "nltk.download('stopwords')\n",
        "\n",
        "# removendo stopwords\n",
        "default_stopwords = set(stopwords.words('portuguese'))\n",
        "stopwords_complement = [\"\", \"+\",\"neste\",\"és\", \"é\", \"somos\", \"sois\", \"são\", \"era\", \"eras\", \"éreis\", \"foste\", \"fostes\", \"foras\",\t\"fôreis\",\t\"serás\", \"sereis\", \"serão\",\t\"serias\", \"seríeis\", \"sejas\", \"sejais\", \"fosses\", \"fôsseis\", \"fores\", \"fordes\", \"sê\", \"sejas\", \"sejais\", \"ser\", \"seres\", \"sermos\",\t\"serdes\",\t\"serem\", \"sobre\", \"é\"]\n",
        "\n",
        "stopwords_complement.extend(default_stopwords)"
      ],
      "execution_count": 4,
      "outputs": [
        {
          "output_type": "stream",
          "text": [
            "[nltk_data] Downloading package stopwords to /root/nltk_data...\n",
            "[nltk_data]   Unzipping corpora/stopwords.zip.\n"
          ],
          "name": "stdout"
        }
      ]
    },
    {
      "cell_type": "code",
      "metadata": {
        "id": "tiKG268PyrCW",
        "colab_type": "code",
        "colab": {
          "base_uri": "https://localhost:8080/",
          "height": 72
        },
        "outputId": "166ccefe-1ec9-4b84-95da-7afa68cbaa36"
      },
      "source": [
        "model = Word2Vec.load('./model.txt')"
      ],
      "execution_count": 6,
      "outputs": [
        {
          "output_type": "stream",
          "text": [
            "/usr/local/lib/python3.6/dist-packages/smart_open/smart_open_lib.py:398: UserWarning: This function is deprecated, use smart_open.open instead. See the migration notes for details: https://github.com/RaRe-Technologies/smart_open/blob/master/README.rst#migrating-to-the-new-open-function\n",
            "  'See the migration notes for details: %s' % _MIGRATION_NOTES_URL\n"
          ],
          "name": "stderr"
        }
      ]
    },
    {
      "cell_type": "code",
      "metadata": {
        "id": "BxhKrk_LxcQy",
        "colab_type": "code",
        "colab": {}
      },
      "source": [
        "def discursos_2_array(id_discursos):\n",
        "    words = re.split(r'\\W+', discursos.loc[id_discursos].discurso)\n",
        "    no_stopwords_discursos = []\n",
        "    for word in words:\n",
        "        if word.lower() not in stopwords_complement:\n",
        "            no_stopwords_discursos.append(word.lower())\n",
        "    return no_stopwords_discursos"
      ],
      "execution_count": 0,
      "outputs": []
    },
    {
      "cell_type": "code",
      "metadata": {
        "id": "SF2j4CDzyA6j",
        "colab_type": "code",
        "colab": {}
      },
      "source": [
        "def discursos_2_embeddings(discursos_id):\n",
        "    words = discursos_2_array(discursos_id)\n",
        "    \n",
        "    embed_words = {}\n",
        "    for word in words:\n",
        "                \n",
        "        try:\n",
        "            embed_words[w] = model[w]\n",
        "        except:\n",
        "            continue      \n",
        "        \n",
        "    return words, embed_words"
      ],
      "execution_count": 0,
      "outputs": []
    },
    {
      "cell_type": "code",
      "metadata": {
        "id": "9SwK3agvyW2L",
        "colab_type": "code",
        "colab": {}
      },
      "source": [
        "def wmdistance(d1, d2):\n",
        "    d1, d1_embed = discursos_2_embeddings(d1)\n",
        "    d2, d2_embed = discursos_2_embeddings(d2)\n",
        "    \n",
        "    return model.wv.wmdistance(d1, d2)"
      ],
      "execution_count": 0,
      "outputs": []
    },
    {
      "cell_type": "code",
      "metadata": {
        "id": "XtcqcuJ-alL2",
        "colab_type": "code",
        "colab": {
          "base_uri": "https://localhost:8080/",
          "height": 35
        },
        "outputId": "370bbc1f-df68-486b-9126-2705b92f3db7"
      },
      "source": [
        "wmdistance(540, 1)"
      ],
      "execution_count": 44,
      "outputs": [
        {
          "output_type": "execute_result",
          "data": {
            "text/plain": [
              "3.9547515458838616"
            ]
          },
          "metadata": {
            "tags": []
          },
          "execution_count": 44
        }
      ]
    },
    {
      "cell_type": "code",
      "metadata": {
        "id": "vgu2_sWsBNmc",
        "colab_type": "code",
        "colab": {}
      },
      "source": [
        "def similarity(discursos_ids):\n",
        "    score = {}\n",
        "    for i in range(0, discursos.index[5500]):\n",
        "        score[i] = wmdistance(discursos_ids, i)\n",
        "    \n",
        "    sorted_discursos = sorted(score.items(), key=operator.itemgetter(1))\n",
        "    return [(i, discursos.loc[i].autor, discursos.loc[i].discurso, \"{0:.2f}\".format(j)) for i, j in sorted_discursos[1:4]]"
      ],
      "execution_count": 0,
      "outputs": []
    },
    {
      "cell_type": "code",
      "metadata": {
        "id": "mHxbi6ROBjST",
        "colab_type": "code",
        "colab": {
          "base_uri": "https://localhost:8080/",
          "height": 52
        },
        "outputId": "d9fe7340-d961-47f3-ef23-f7e429d226c1"
      },
      "source": [
        "discursos.loc[540].autor, discursos.loc[540].discurso"
      ],
      "execution_count": 65,
      "outputs": [
        {
          "output_type": "execute_result",
          "data": {
            "text/plain": [
              "('ERIKA KOKAY',\n",
              " 'V.Exa., de forma ilegal, concedeu o tempo integral à Deputada. Então, V.Exa...')"
            ]
          },
          "metadata": {
            "tags": []
          },
          "execution_count": 65
        }
      ]
    },
    {
      "cell_type": "code",
      "metadata": {
        "id": "BMCUSG66BwFp",
        "colab_type": "code",
        "colab": {
          "base_uri": "https://localhost:8080/",
          "height": 176
        },
        "outputId": "9ee0736c-a601-4dae-afc0-34fed018c699"
      },
      "source": [
        "similarity(540)"
      ],
      "execution_count": 72,
      "outputs": [
        {
          "output_type": "execute_result",
          "data": {
            "text/plain": [
              "[(2582, 'DELEGADO ÉDER MAURO', 'Deputada, V.Exa. me dá um aparte?', '2.60'),\n",
              " (3654,\n",
              "  'MARCELO RAMOS',\n",
              "  'Eu vou pedir para V.Exa. parar. Rapidinho, Deputada Sâmia! Eu vou parar o tempo.',\n",
              "  '2.81'),\n",
              " (140,\n",
              "  'FELIPE FRANCISCHINI',\n",
              "  'O pedido foi de V.Exa., Deputada. V.Exa. pediu, e eu deferi, de ofício. Eu deferi o seu pedido, de ofício.',\n",
              "  '2.82')]"
            ]
          },
          "metadata": {
            "tags": []
          },
          "execution_count": 72
        }
      ]
    },
    {
      "cell_type": "markdown",
      "metadata": {
        "id": "yzu6kOM-pvY1",
        "colab_type": "text"
      },
      "source": [
        "### Análises e construção dos docs\n",
        "\n",
        "- Análise de similaridade/agrupamento de discursos\n",
        "- Análise de viés nos discursos para termos como: reforma da previdência, bolsonaro, lula livre"
      ]
    },
    {
      "cell_type": "markdown",
      "metadata": {
        "id": "PFVkVDDnqYvv",
        "colab_type": "text"
      },
      "source": [
        "### Visualização\n",
        "\n",
        "- Grupos de deputados que falam similar\n",
        "- Viés de um discurso para termo X"
      ]
    }
  ]
}